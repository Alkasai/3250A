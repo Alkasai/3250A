{
 "cells": [
  {
   "cell_type": "code",
   "execution_count": null,
   "metadata": {
    "dotnet_interactive": {
     "language": "csharp"
    },
    "vscode": {
     "languageId": "dotnet-interactive.csharp"
    }
   },
   "outputs": [
    {
     "data": {
      "text/html": [
       "<div><div></div><div></div><div><strong>Installed Packages</strong><ul><li><span>Microsoft.DotNet.Interactive.SqlServer, 1.0.0-beta.22452.2</span></li></ul></div></div>"
      ]
     },
     "metadata": {},
     "output_type": "display_data"
    },
    {
     "data": {
      "text/markdown": [
       "Loading extensions from `Microsoft.DotNet.Interactive.SqlServer.dll`"
      ]
     },
     "metadata": {},
     "output_type": "display_data"
    },
    {
     "data": {
      "text/html": [
       "<details><summary>Query Microsoft SQL Server databases.</summary>\r\n",
       "<p>This extension adds support for connecting to Microsoft SQL Server databases using the <code>#!connect mssql</code> magic command. For more information, run a cell using the <code>#!sql</code> magic command.</p>\r\n",
       "</details>"
      ]
     },
     "metadata": {},
     "output_type": "display_data"
    }
   ],
   "source": [
    "#r \"nuget:Microsoft.DotNet.Interactive.SqlServer,*-*\""
   ]
  },
  {
   "cell_type": "code",
   "execution_count": null,
   "metadata": {
    "dotnet_interactive": {
     "language": "csharp"
    },
    "vscode": {
     "languageId": "dotnet-interactive.csharp"
    }
   },
   "outputs": [
    {
     "name": "stdout",
     "output_type": "stream",
     "text": [
      "Description:\r\n",
      "  Connects to a Microsoft SQL Server database\r\n",
      "\r\n",
      "Usage:\r\n",
      "  #!connect mssql <connectionString> [options]\r\n",
      "\r\n",
      "Arguments:\r\n",
      "  <connectionString>  The connection string used to connect to the database\r\n",
      "\r\n",
      "Options:\r\n",
      "  --kernel-name <kernel-name> (REQUIRED)  The name of the subkernel to be added\r\n",
      "  --create-dbcontext                      Scaffold a DbContext in the C# kernel.\r\n",
      "  -?, -h, --help                          Show help and usage information\r\n",
      "\r\n",
      "\r\n",
      "\r\n"
     ]
    }
   ],
   "source": [
    "#!connect mssql -h"
   ]
  },
  {
   "cell_type": "code",
   "execution_count": null,
   "metadata": {
    "dotnet_interactive": {
     "language": "csharp"
    },
    "vscode": {
     "languageId": "dotnet-interactive.csharp"
    }
   },
   "outputs": [
    {
     "data": {
      "text/plain": [
       "Kernel added: #!sql-PracticeDB"
      ]
     },
     "metadata": {},
     "output_type": "display_data"
    }
   ],
   "source": [
    "#!connect mssql --kernel-name PracticeDB \"Data Source=ALKASAI-SB\\SQLEXPRESS; Initial Catalog=PracticeDB; User Id=sa; Password=blah;\""
   ]
  },
  {
   "cell_type": "markdown",
   "metadata": {},
   "source": [
    "# Inject Data into PracticeDB"
   ]
  },
  {
   "cell_type": "code",
   "execution_count": null,
   "metadata": {
    "dotnet_interactive": {
     "language": "sql"
    },
    "vscode": {
     "languageId": "dotnet-interactive.sql"
    }
   },
   "outputs": [],
   "source": [
    "#!sql-PracticeDB\n",
    "BEGIN TRANSACTION;\n",
    "\n",
    "DROP TABLE IF EXISTS TransactionData;\n",
    "DROP TABLE IF EXISTS CustomerData;\n",
    "DROP TABLE IF EXISTS BranchData;\n",
    "\n",
    "-- Table: BranchData\n",
    "CREATE TABLE BranchData (BranchNumber int PRIMARY KEY, Location nvarchar(50));\n",
    "INSERT INTO BranchData (BranchNumber, Location) VALUES (987, 'London');\n",
    "INSERT INTO BranchData (BranchNumber, Location) VALUES (1233, 'Yellowknife');\n",
    "INSERT INTO BranchData (BranchNumber, Location) VALUES (1343, 'Toronto');\n",
    "INSERT INTO BranchData (BranchNumber, Location) VALUES (2398, 'Vancouver');\n",
    "INSERT INTO BranchData (BranchNumber, Location) VALUES (3456, 'Victoria');\n",
    "INSERT INTO BranchData (BranchNumber, Location) VALUES (4353, 'Calgary');\n",
    "INSERT INTO BranchData (BranchNumber, Location) VALUES (4576, 'Ottawa');\n",
    "INSERT INTO BranchData (BranchNumber, Location) VALUES (6786, 'Kingston');\n",
    "INSERT INTO BranchData (BranchNumber, Location) VALUES (7654, 'Montreal');\n",
    "INSERT INTO BranchData (BranchNumber, Location) VALUES (7658, 'Moose Jaw');\n",
    "INSERT INTO BranchData (BranchNumber, Location) VALUES (8967, 'St. John');\n",
    "INSERT INTO BranchData (BranchNumber, Location) VALUES (8968, 'Edmonton');\n",
    "INSERT INTO BranchData (BranchNumber, Location) VALUES (9878, 'Windsor');\n",
    "\n",
    "-- Table: CustomerData\n",
    "CREATE TABLE CustomerData (CustomerID int PRIMARY KEY, Name nvarchar(50), Age NUMERIC, City nvarchar(50), HomeBranch int, AccountBalance int);\n",
    "INSERT INTO CustomerData (CustomerID, Name, Age, City, HomeBranch, AccountBalance) VALUES (1000, 'John Smith', 34, 'Toronto', 1343, 8485);\n",
    "INSERT INTO CustomerData (CustomerID, Name, Age, City, HomeBranch, AccountBalance) VALUES (1001, 'Alex Badlands', 22, 'Victoria', 3456, 6943);\n",
    "INSERT INTO CustomerData (CustomerID, Name, Age, City, HomeBranch, AccountBalance) VALUES (1002, 'Gina Bradley', 46, 'London', 8967, 777);\n",
    "INSERT INTO CustomerData (CustomerID, Name, Age, City, HomeBranch, AccountBalance) VALUES (1003, 'Eleanor Johnston', 62, 'London', 8967, 2683);\n",
    "INSERT INTO CustomerData (CustomerID, Name, Age, City, HomeBranch, AccountBalance) VALUES (1004, 'Eleanor Bigsby', 42, 'Smiths Falls', 2398, 6244);\n",
    "INSERT INTO CustomerData (CustomerID, Name, Age, City, HomeBranch, AccountBalance) VALUES (1005, 'Donalt Tower', 56, 'Ottawa', 3456, 147);\n",
    "INSERT INTO CustomerData (CustomerID, Name, Age, City, HomeBranch, AccountBalance) VALUES (1006, 'Norman Patty', 48, 'Kingston', 2398, 2787);\n",
    "INSERT INTO CustomerData (CustomerID, Name, Age, City, HomeBranch, AccountBalance) VALUES (1007, 'Megatron', 45, 'Montreal', 2398, 9157);\n",
    "INSERT INTO CustomerData (CustomerID, Name, Age, City, HomeBranch, AccountBalance) VALUES (1100, 'Alina Redshaw', 65, 'Vancouver', 4576, 6398);\n",
    "INSERT INTO CustomerData (CustomerID, Name, Age, City, HomeBranch, AccountBalance) VALUES (1101, 'Taylor Swift', 18, 'Toronto', 1343, 8391);\n",
    "\n",
    "-- Table: TransactionData\n",
    "CREATE TABLE TransactionData (TransactionID nvarchar(50), TransactionAmount NUMERIC, TransactionCity nvarchar(50), TransactionType nvarchar(50), CustomerID int REFERENCES CustomerData (CustomerID), AccountNumber NUMERIC);\n",
    "INSERT INTO TransactionData (TransactionID, TransactionAmount, TransactionCity, TransactionType, CustomerID, AccountNumber) VALUES ('658985', 3, 'Toronto', 'Coffee Shop', 1000, 56897);\n",
    "INSERT INTO TransactionData (TransactionID, TransactionAmount, TransactionCity, TransactionType, CustomerID, AccountNumber) VALUES ('658986', 948, 'Toronto', 'Electronics', 1001, 45679);\n",
    "INSERT INTO TransactionData (TransactionID, TransactionAmount, TransactionCity, TransactionType, CustomerID, AccountNumber) VALUES ('658987', 36, 'Vancouver', 'Groceries', 1100, 68975);\n",
    "INSERT INTO TransactionData (TransactionID, TransactionAmount, TransactionCity, TransactionType, CustomerID, AccountNumber) VALUES ('658988', 29, 'Toronto', 'Coffee Shop', 1101, 58975);\n",
    "INSERT INTO TransactionData (TransactionID, TransactionAmount, TransactionCity, TransactionType, CustomerID, AccountNumber) VALUES ('658989', 621, 'London', 'Travel', 1002, 54687);\n",
    "INSERT INTO TransactionData (TransactionID, TransactionAmount, TransactionCity, TransactionType, CustomerID, AccountNumber) VALUES ('658990', 957, 'London', 'Electronics', 1003, 53459);\n",
    "INSERT INTO TransactionData (TransactionID, TransactionAmount, TransactionCity, TransactionType, CustomerID, AccountNumber) VALUES ('658991', 979, 'Smiths Falls', 'Electronics', 1004, 23154);\n",
    "INSERT INTO TransactionData (TransactionID, TransactionAmount, TransactionCity, TransactionType, CustomerID, AccountNumber) VALUES ('658992', 844, 'Ottawa', 'Mortgage', 1005, 87354);\n",
    "INSERT INTO TransactionData (TransactionID, TransactionAmount, TransactionCity, TransactionType, CustomerID, AccountNumber) VALUES ('658993', 14, 'Kingston', 'Coffee Shop', 1006, 45128);\n",
    "INSERT INTO TransactionData (TransactionID, TransactionAmount, TransactionCity, TransactionType, CustomerID, AccountNumber) VALUES ('658994', 399, 'Montreal', 'Car', 1007, 99784);\n",
    "INSERT INTO TransactionData (TransactionID, TransactionAmount, TransactionCity, TransactionType, CustomerID, AccountNumber) VALUES ('658995', 48, 'Toronto', 'Restaurants', 1000, 56897);\n",
    "INSERT INTO TransactionData (TransactionID, TransactionAmount, TransactionCity, TransactionType, CustomerID, AccountNumber) VALUES ('658996', 239, 'Victoria', 'Car', 1001, 45679);\n",
    "INSERT INTO TransactionData (TransactionID, TransactionAmount, TransactionCity, TransactionType, CustomerID, AccountNumber) VALUES ('658997', 559, 'Toronto', 'Electronics', 1100, 68975);\n",
    "INSERT INTO TransactionData (TransactionID, TransactionAmount, TransactionCity, TransactionType, CustomerID, AccountNumber) VALUES ('658998', 215, 'Toronto', 'Restaurants', 1101, 58975);\n",
    "INSERT INTO TransactionData (TransactionID, TransactionAmount, TransactionCity, TransactionType, CustomerID, AccountNumber) VALUES ('658999', 67, 'London', 'Groceries', 1002, 54687);\n",
    "INSERT INTO TransactionData (TransactionID, TransactionAmount, TransactionCity, TransactionType, CustomerID, AccountNumber) VALUES ('659000', 1, 'London', 'Coffee Shop', 1003, 53459);\n",
    "INSERT INTO TransactionData (TransactionID, TransactionAmount, TransactionCity, TransactionType, CustomerID, AccountNumber) VALUES ('659001', 636, 'Smiths Falls', 'Mortgage', 1004, 23154);\n",
    "INSERT INTO TransactionData (TransactionID, TransactionAmount, TransactionCity, TransactionType, CustomerID, AccountNumber) VALUES ('659002', 946, 'Ottawa', 'Electronics', 1005, 87354);\n",
    "INSERT INTO TransactionData (TransactionID, TransactionAmount, TransactionCity, TransactionType, CustomerID, AccountNumber) VALUES ('659003', 7, 'Kingston', 'Coffee Shop', 1006, 45128);\n",
    "INSERT INTO TransactionData (TransactionID, TransactionAmount, TransactionCity, TransactionType, CustomerID, AccountNumber) VALUES ('659004', 927, 'Montreal', 'Mortgage', 1007, 99784);\n",
    "INSERT INTO TransactionData (TransactionID, TransactionAmount, TransactionCity, TransactionType, CustomerID, AccountNumber) VALUES ('659005', 655, 'Toronto', 'Fashion', 1000, 56897);\n",
    "INSERT INTO TransactionData (TransactionID, TransactionAmount, TransactionCity, TransactionType, CustomerID, AccountNumber) VALUES ('659006', 638, 'Victoria', 'Mortgage', 1001, 45679);\n",
    "INSERT INTO TransactionData (TransactionID, TransactionAmount, TransactionCity, TransactionType, CustomerID, AccountNumber) VALUES ('659007', 30, 'Vancouver', 'Fashion', 1100, 68975);\n",
    "INSERT INTO TransactionData (TransactionID, TransactionAmount, TransactionCity, TransactionType, CustomerID, AccountNumber) VALUES ('659008', 327, 'Toronto', 'Fashion', 1101, 58975);\n",
    "INSERT INTO TransactionData (TransactionID, TransactionAmount, TransactionCity, TransactionType, CustomerID, AccountNumber) VALUES ('659009', 60, 'London', 'Groceries', 1002, 54687);\n",
    "INSERT INTO TransactionData (TransactionID, TransactionAmount, TransactionCity, TransactionType, CustomerID, AccountNumber) VALUES ('659010', 920, 'London', 'Travel', 1003, 53459);\n",
    "INSERT INTO TransactionData (TransactionID, TransactionAmount, TransactionCity, TransactionType, CustomerID, AccountNumber) VALUES ('659011', 25, 'London', 'Restaurants', 1004, 23154);\n",
    "INSERT INTO TransactionData (TransactionID, TransactionAmount, TransactionCity, TransactionType, CustomerID, AccountNumber) VALUES ('659012', 493, 'Ottawa', 'Fashion', 1005, 87354);\n",
    "INSERT INTO TransactionData (TransactionID, TransactionAmount, TransactionCity, TransactionType, CustomerID, AccountNumber) VALUES ('659013', 946, 'London', 'Travel', 1006, 45128);\n",
    "INSERT INTO TransactionData (TransactionID, TransactionAmount, TransactionCity, TransactionType, CustomerID, AccountNumber) VALUES ('659014', 686, 'Montreal', 'Travel', 1007, 99784);\n",
    "\n",
    "COMMIT TRANSACTION;"
   ]
  },
  {
   "cell_type": "markdown",
   "metadata": {},
   "source": [
    "# Assignment 1"
   ]
  },
  {
   "cell_type": "markdown",
   "metadata": {},
   "source": [
    "### 1. How many customers transact in a city other than their home city? You will need to find each customer’s Home Branch location and compare it to the location of their transaction (i.e. Transaction City)."
   ]
  },
  {
   "cell_type": "code",
   "execution_count": null,
   "metadata": {
    "dotnet_interactive": {
     "language": "sql"
    },
    "vscode": {
     "languageId": "dotnet-interactive.sql"
    }
   },
   "outputs": [
    {
     "data": {
      "text/plain": [
       "(8 rows affected)"
      ]
     },
     "metadata": {},
     "output_type": "display_data"
    },
    {
     "data": {
      "text/csv": [
       "CustomerID,(No column name)\r\n",
       "1001,1\r\n",
       "1002,3\r\n",
       "1003,3\r\n",
       "1004,3\r\n",
       "1005,3\r\n",
       "1006,3\r\n",
       "1007,3\r\n",
       "1100,3\r\n"
      ],
      "text/html": [
       "<table><thead><tr><td><span>CustomerID</span></td><td><span>(No column name)</span></td></tr></thead><tbody><tr><td><div class=\"dni-plaintext\">1001</div></td><td><div class=\"dni-plaintext\">1</div></td></tr><tr><td><div class=\"dni-plaintext\">1002</div></td><td><div class=\"dni-plaintext\">3</div></td></tr><tr><td><div class=\"dni-plaintext\">1003</div></td><td><div class=\"dni-plaintext\">3</div></td></tr><tr><td><div class=\"dni-plaintext\">1004</div></td><td><div class=\"dni-plaintext\">3</div></td></tr><tr><td><div class=\"dni-plaintext\">1005</div></td><td><div class=\"dni-plaintext\">3</div></td></tr><tr><td><div class=\"dni-plaintext\">1006</div></td><td><div class=\"dni-plaintext\">3</div></td></tr><tr><td><div class=\"dni-plaintext\">1007</div></td><td><div class=\"dni-plaintext\">3</div></td></tr><tr><td><div class=\"dni-plaintext\">1100</div></td><td><div class=\"dni-plaintext\">3</div></td></tr></tbody></table>"
      ]
     },
     "metadata": {},
     "output_type": "display_data"
    }
   ],
   "source": [
    "#!sql-PracticeDB\n",
    "SELECT nhbl.CustomerID, COUNT(nhbl.CustomerID)\n",
    "FROM (\n",
    "    SELECT bl.CustomerID FROM (\n",
    "        SELECT c.CustomerID, b.BranchNumber, b.Location\n",
    "        FROM CustomerData c\n",
    "        LEFT JOIN BranchData b\n",
    "        ON c.HomeBranch = b.BranchNumber\n",
    "    ) bl\n",
    "    LEFT JOIN TransactionData t\n",
    "    ON bl.CustomerID = t.CustomerID\n",
    "    WHERE bl.Location NOT LIKE t.TransactionCity\n",
    ") nhbl\n",
    "GROUP BY nhbl.CustomerID"
   ]
  },
  {
   "cell_type": "markdown",
   "metadata": {},
   "source": [
    "### 2. Which customers have the highest single transaction in each city?"
   ]
  },
  {
   "cell_type": "markdown",
   "id": "7a1a5474",
   "metadata": {},
   "source": [
    "Unfortunately MySQL doesn't allow including columns that are not in the `GROUP BY`, so it won't automatically select the first row, like it would in Sqlite\n",
    "To achive the same results we need two tables:\n",
    "- `table 1` - Max amount per city\n",
    "- `table 2` - City and Customer where `City` is the same `City` as in `table 1` and `Transaction Amount` is the same as the `Max Amount` from `table 1`"
   ]
  },
  {
   "cell_type": "code",
   "execution_count": null,
   "metadata": {
    "dotnet_interactive": {
     "language": "sql"
    },
    "vscode": {
     "languageId": "dotnet-interactive.sql"
    }
   },
   "outputs": [
    {
     "data": {
      "text/plain": [
       "(8 rows affected)"
      ]
     },
     "metadata": {},
     "output_type": "display_data"
    },
    {
     "data": {
      "text/csv": [
       "TransactionCity,CustomerID,TransactionAmount\r\n",
       "Victoria,1001,638\r\n",
       "Vancouver,1100,36\r\n",
       "Toronto,1001,948\r\n",
       "\"Smiths Falls\",1004,979\r\n",
       "Ottawa,1005,946\r\n",
       "Montreal,1007,927\r\n",
       "London,1003,957\r\n",
       "Kingston,1006,14\r\n"
      ],
      "text/html": [
       "<table><thead><tr><td><span>TransactionCity</span></td><td><span>CustomerID</span></td><td><span>TransactionAmount</span></td></tr></thead><tbody><tr><td>Victoria</td><td><div class=\"dni-plaintext\">1001</div></td><td><div class=\"dni-plaintext\">638</div></td></tr><tr><td>Vancouver</td><td><div class=\"dni-plaintext\">1100</div></td><td><div class=\"dni-plaintext\">36</div></td></tr><tr><td>Toronto</td><td><div class=\"dni-plaintext\">1001</div></td><td><div class=\"dni-plaintext\">948</div></td></tr><tr><td>Smiths Falls</td><td><div class=\"dni-plaintext\">1004</div></td><td><div class=\"dni-plaintext\">979</div></td></tr><tr><td>Ottawa</td><td><div class=\"dni-plaintext\">1005</div></td><td><div class=\"dni-plaintext\">946</div></td></tr><tr><td>Montreal</td><td><div class=\"dni-plaintext\">1007</div></td><td><div class=\"dni-plaintext\">927</div></td></tr><tr><td>London</td><td><div class=\"dni-plaintext\">1003</div></td><td><div class=\"dni-plaintext\">957</div></td></tr><tr><td>Kingston</td><td><div class=\"dni-plaintext\">1006</div></td><td><div class=\"dni-plaintext\">14</div></td></tr></tbody></table>"
      ]
     },
     "metadata": {},
     "output_type": "display_data"
    }
   ],
   "source": [
    "#!sql-PracticeDB\n",
    "SELECT t2.TransactionCity, t2.CustomerID, t2.TransactionAmount\n",
    "FROM TransactionData t2,\n",
    "    (\n",
    "        SELECT t1.TransactionCity, MAX(t1.TransactionAmount) MaxAmount\n",
    "        FROM TransactionData t1\n",
    "        GROUP BY t1.TransactionCity\n",
    "    ) m\n",
    "WHERE t2.TransactionCity = m.TransactionCity AND t2.TransactionAmount = m.MaxAmount"
   ]
  },
  {
   "cell_type": "markdown",
   "id": "b15d0130",
   "metadata": {},
   "source": [
    "### 3. Which home branch holds the highest total customer account balances?"
   ]
  },
  {
   "cell_type": "code",
   "execution_count": null,
   "id": "794837da",
   "metadata": {
    "vscode": {
     "languageId": "dotnet-interactive.sql"
    }
   },
   "outputs": [
    {
     "data": {
      "text/plain": [
       "(1 row affected)"
      ]
     },
     "metadata": {},
     "output_type": "display_data"
    },
    {
     "data": {
      "text/csv": [
       "BranchNumber,TotalBalance\r\n",
       "2398,18188\r\n"
      ],
      "text/html": [
       "<table><thead><tr><td><span>BranchNumber</span></td><td><span>TotalBalance</span></td></tr></thead><tbody><tr><td><div class=\"dni-plaintext\">2398</div></td><td><div class=\"dni-plaintext\">18188</div></td></tr></tbody></table>"
      ]
     },
     "metadata": {},
     "output_type": "display_data"
    }
   ],
   "source": [
    "#!sql-PracticeDB\n",
    "SELECT TOP 1\n",
    "    b.BranchNumber, SUM(c.AccountBalance) TotalBalance\n",
    "FROM BranchData b\n",
    "INNER JOIN CustomerData c\n",
    "ON b.BranchNumber = c.HomeBranch\n",
    "GROUP BY b.BranchNumber\n",
    "ORDER BY TotalBalance DESC"
   ]
  },
  {
   "cell_type": "code",
   "execution_count": null,
   "metadata": {
    "dotnet_interactive": {
     "language": "sql"
    },
    "vscode": {
     "languageId": "dotnet-interactive.sql"
    }
   },
   "outputs": [],
   "source": []
  }
 ],
 "metadata": {
  "kernelspec": {
   "display_name": ".NET (C#)",
   "language": "C#",
   "name": ".net-csharp"
  },
  "language_info": {
   "file_extension": ".cs",
   "mimetype": "text/x-csharp",
   "name": "C#",
   "pygments_lexer": "csharp",
   "version": "8.0"
  }
 },
 "nbformat": 4,
 "nbformat_minor": 5
}
