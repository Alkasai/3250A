{
 "cells": [
  {
   "cell_type": "markdown",
   "metadata": {},
   "source": [
    "## Practice Questions\n",
    "\n",
    "1. Create two list objects with the following elements in each: [2; 3; 7; 89; 9] [8; 9.8; 9; 8; 89]. Print each list withthe object name. For example: the output will look like this: 'List1: [2; 3; 7; 89; 9] LIst2: [8; 9.8; 9; 8; 89]'"
   ]
  },
  {
   "cell_type": "code",
   "execution_count": null,
   "id": "050c8d82",
   "metadata": {
    "dotnet_interactive": {
     "language": "fsharp"
    },
    "vscode": {
     "languageId": "dotnet-interactive.fsharp"
    }
   },
   "outputs": [
    {
     "name": "stdout",
     "output_type": "stream",
     "text": [
      "List1: [2; 3; 7; ... ]\r\n",
      "List2: [8; 9.8; 9; ... ]\r\n"
     ]
    }
   ],
   "source": [
    "let l1 = [2.; 3.; 7.; 89.; 9.]\n",
    "let l2 = [8.; 9.8; 9.; 8.; 89.]\n",
    "printfn $\"List1: {l1}\"\n",
    "printfn $\"List2: {l2}\""
   ]
  },
  {
   "cell_type": "markdown",
   "id": "ded27dea",
   "metadata": {},
   "source": [
    "2. Define a string object which states the following: 'Twinkle, twinkle, little star,How I wonder what you are! Up above the world so high, Like a diamond in the sky.'. Count the number of times the letters 'e', 'a' and 't' appear. Then, write a function to split the separate each word of the string. Hint: you can use the split() method."
   ]
  },
  {
   "cell_type": "code",
   "execution_count": null,
   "id": "362d2823",
   "metadata": {
    "dotnet_interactive": {
     "language": "fsharp"
    },
    "vscode": {
     "languageId": "dotnet-interactive.fsharp"
    }
   },
   "outputs": [],
   "source": [
    "let printEAT (e, a, t) =\n",
    "    printfn $\"There are %i{e} e's\"\n",
    "    printfn $\"There are %i{a} a's\"\n",
    "    printfn $\"There are %i{t} t's\""
   ]
  },
  {
   "cell_type": "code",
   "execution_count": null,
   "id": "f7e6a948",
   "metadata": {
    "dotnet_interactive": {
     "language": "fsharp"
    },
    "vscode": {
     "languageId": "dotnet-interactive.fsharp"
    }
   },
   "outputs": [
    {
     "name": "stdout",
     "output_type": "stream",
     "text": [
      "There are 9 e's\r\n",
      "There are 6 a's\r\n",
      "There are 8 t's\r\n"
     ]
    }
   ],
   "source": [
    "let s =\n",
    "    \"Twinkle, twinkle, little star,How I wonder what you are! Up above the world so high, Like a diamond in the sky.\"\n",
    "\n",
    "let mutable e = 0\n",
    "let mutable a = 0\n",
    "let mutable t = 0\n",
    "for i in s.ToLowerInvariant() do\n",
    "    if i = 'e' then\n",
    "        e <- e + 1\n",
    "    elif i = 'a' then\n",
    "        a <- a + 1\n",
    "    elif i = 't' then\n",
    "        t <- t + 1\n",
    "\n",
    "printEAT (e, a, t)"
   ]
  },
  {
   "cell_type": "markdown",
   "id": "52fc32af",
   "metadata": {},
   "source": [
    "Alternative solution using `fold`"
   ]
  },
  {
   "cell_type": "code",
   "execution_count": null,
   "id": "2ae1b6e6",
   "metadata": {
    "dotnet_interactive": {
     "language": "fsharp"
    },
    "vscode": {
     "languageId": "dotnet-interactive.fsharp"
    }
   },
   "outputs": [
    {
     "name": "stdout",
     "output_type": "stream",
     "text": [
      "There are 9 e's\r\n",
      "There are 6 a's\r\n",
      "There are 8 t's\r\n"
     ]
    }
   ],
   "source": [
    "s.ToLowerInvariant()\n",
    "|> Seq.fold\n",
    "    (\n",
    "        fun (e,a,t) c ->\n",
    "            match c with\n",
    "            | 'e' -> e + 1, a, t\n",
    "            | 'a' -> e, a + 1, t\n",
    "            | 't' -> e, a, t + 1\n",
    "            | _ -> e, a, t\n",
    "    )\n",
    "    (0,0,0) // state\n",
    "|> printEAT // send all 3 results to print"
   ]
  },
  {
   "cell_type": "code",
   "execution_count": null,
   "id": "5547cc93",
   "metadata": {
    "dotnet_interactive": {
     "language": "fsharp"
    },
    "vscode": {
     "languageId": "dotnet-interactive.fsharp"
    }
   },
   "outputs": [
    {
     "data": {
      "text/html": [
       "<table><thead><tr><th><i>index</i></th><th>value</th></tr></thead><tbody><tr><td>0</td><td>a</td></tr><tr><td>1</td><td>above</td></tr><tr><td>2</td><td>are</td></tr><tr><td>3</td><td>diamond</td></tr><tr><td>4</td><td>high</td></tr><tr><td>5</td><td>how</td></tr><tr><td>6</td><td>i</td></tr><tr><td>7</td><td>in</td></tr><tr><td>8</td><td>like</td></tr><tr><td>9</td><td>little</td></tr><tr><td>10</td><td>sky</td></tr><tr><td>11</td><td>so</td></tr><tr><td>12</td><td>star</td></tr><tr><td>13</td><td>the</td></tr><tr><td>14</td><td>twinkle</td></tr><tr><td>15</td><td>up</td></tr><tr><td>16</td><td>what</td></tr><tr><td>17</td><td>wonder</td></tr><tr><td>18</td><td>world</td></tr><tr><td>19</td><td>you</td></tr><tr><td colspan=\"2\"><i>... (more)</i></td></tr></tbody></table>"
      ]
     },
     "metadata": {},
     "output_type": "display_data"
    }
   ],
   "source": [
    "let replace c (s: string) = s.Replace(c, \" \")\n",
    "let split (s: string) = s.Split(\" \")\n",
    "let cleanup = replace \",\" >> replace \"!\" >> replace \".\" >> split\n",
    "\n",
    "s\n",
    "|> cleanup\n",
    "|> Seq.filter (fun w -> w <> \"\")\n",
    "|> Seq.map (fun s -> s.ToLowerInvariant())\n",
    "|> Seq.distinct\n",
    "|> Seq.sort\n",
    "|> List.ofSeq"
   ]
  },
  {
   "cell_type": "markdown",
   "id": "490c1fdd",
   "metadata": {},
   "source": [
    "3. Create a dictionary with the following keys and corresponding values related to cars and models: \n",
    "\n",
    "    * Keys: Toronto, Vancouver, Montreal, Winnipeg\n",
    "    * Values: Ontario, British Columbia, Quebec, Manitoba\n",
    "\n",
    "Write a function to add an entry to the dictionary: \"Saskatoon: Saskatchewan\"."
   ]
  },
  {
   "cell_type": "code",
   "execution_count": null,
   "id": "94e3c823",
   "metadata": {
    "dotnet_interactive": {
     "language": "fsharp"
    },
    "vscode": {
     "languageId": "dotnet-interactive.fsharp"
    }
   },
   "outputs": [
    {
     "data": {
      "text/html": [
       "<table><thead><tr><th><i>key</i></th><th>value</th></tr></thead><tbody><tr><td>Montreal</td><td>Manitoba</td></tr><tr><td>Saskatoon</td><td>Saskatchewan</td></tr><tr><td>Toronto</td><td>Ontario</td></tr><tr><td>Vancouver</td><td>British Columbia</td></tr></tbody></table>"
      ]
     },
     "metadata": {},
     "output_type": "display_data"
    }
   ],
   "source": [
    "let locations =\n",
    "    [\n",
    "        \"Toronto\", \"Ontario\"\n",
    "        \"Vancouver\", \"British Columbia\"\n",
    "        \"Montreal\", \"Quebec\"\n",
    "        \"Montreal\", \"Manitoba\"\n",
    "    ]\n",
    "    |> Map.ofList\n",
    "\n",
    "let updatedLocations = locations.Add(\"Saskatoon\", \"Saskatchewan\")\n",
    "updatedLocations"
   ]
  },
  {
   "cell_type": "code",
   "execution_count": null,
   "id": "e99ef959",
   "metadata": {
    "dotnet_interactive": {
     "language": "fsharp"
    },
    "vscode": {
     "languageId": "dotnet-interactive.fsharp"
    }
   },
   "outputs": [],
   "source": [
    "let has k (m:Map<'a,'b>) =\n",
    "    m.Keys\n",
    "    |> Seq.tryFind (fun key -> key = k)\n",
    "    |> function\n",
    "        | Some key -> true\n",
    "        | None -> false"
   ]
  },
  {
   "cell_type": "code",
   "execution_count": null,
   "id": "e5386a99",
   "metadata": {
    "dotnet_interactive": {
     "language": "fsharp"
    },
    "vscode": {
     "languageId": "dotnet-interactive.fsharp"
    }
   },
   "outputs": [
    {
     "data": {
      "text/html": [
       "<div class=\"dni-plaintext\">False</div>"
      ]
     },
     "metadata": {},
     "output_type": "display_data"
    }
   ],
   "source": [
    "updatedLocations |> has \"Alberta\""
   ]
  },
  {
   "cell_type": "code",
   "execution_count": null,
   "id": "fad92e56",
   "metadata": {
    "dotnet_interactive": {
     "language": "fsharp"
    },
    "vscode": {
     "languageId": "dotnet-interactive.fsharp"
    }
   },
   "outputs": [
    {
     "data": {
      "text/html": [
       "<div class=\"dni-plaintext\">True</div>"
      ]
     },
     "metadata": {},
     "output_type": "display_data"
    }
   ],
   "source": [
    "updatedLocations |> has \"Saskatoon\""
   ]
  },
  {
   "cell_type": "markdown",
   "id": "ddcb2b8c",
   "metadata": {},
   "source": [
    "5. Define variables to represent the following rectangle coordinates: (2,3), (2,8), (4,3), (4,8). Then, write an if statement to check if the point (3,5) is inside the rectangle."
   ]
  },
  {
   "cell_type": "code",
   "execution_count": null,
   "id": "80a6956d",
   "metadata": {
    "dotnet_interactive": {
     "language": "fsharp"
    },
    "vscode": {
     "languageId": "dotnet-interactive.fsharp"
    }
   },
   "outputs": [],
   "source": [
    "type BottomLeft = int * int\n",
    "type TopLeft = int * int\n",
    "type BottomRight = int * int\n",
    "type TopRight = int * int\n",
    "\n",
    "let x1 = 2\n",
    "let y1 = 3\n",
    "let x2 = 4\n",
    "let y2 = 8\n",
    "let bottomLeft = BottomLeft (x1,y1)\n",
    "let topLeft = TopLeft (x1,y2)\n",
    "let bottomRight = BottomRight (x2,y1)\n",
    "let topRight = TopRight (x2,y2)"
   ]
  },
  {
   "cell_type": "code",
   "execution_count": null,
   "id": "015c67c4",
   "metadata": {
    "dotnet_interactive": {
     "language": "fsharp"
    },
    "vscode": {
     "languageId": "dotnet-interactive.fsharp"
    }
   },
   "outputs": [],
   "source": [
    "let inside ((x1,y1): BottomLeft) ((x2,y2): TopRight) p =\n",
    "    // above bottom left point, e.g. (2,3)\n",
    "    // and\n",
    "    // below top right point, e.g. (4,8)\n",
    "    p >= (x1,y1) && p <= (x2,y2)"
   ]
  },
  {
   "cell_type": "code",
   "execution_count": null,
   "id": "547d35bd",
   "metadata": {
    "dotnet_interactive": {
     "language": "fsharp"
    },
    "vscode": {
     "languageId": "dotnet-interactive.fsharp"
    }
   },
   "outputs": [
    {
     "data": {
      "text/html": [
       "<div class=\"dni-plaintext\">True</div>"
      ]
     },
     "metadata": {},
     "output_type": "display_data"
    }
   ],
   "source": [
    "(3, 5) |> inside bottomLeft topRight"
   ]
  },
  {
   "cell_type": "markdown",
   "id": "83f39a01",
   "metadata": {},
   "source": [
    "6. Write a function to compute the n-th element of the Fibonacci sequence recursively. If you need to familiarize yourself with the Fibonacci sequence, please refer to https://en.wikipedia.org/wiki/Fibonacci_number (Fibonacci number, n.d.). The function should take an integer number n as an argument and return n-th element of the Fibonacci sequence. The first two numbers in the sequence are 0 and 1, and each subsequent number is the sum of the previous two."
   ]
  },
  {
   "cell_type": "code",
   "execution_count": null,
   "id": "a9abdced",
   "metadata": {
    "dotnet_interactive": {
     "language": "fsharp"
    },
    "vscode": {
     "languageId": "dotnet-interactive.fsharp"
    }
   },
   "outputs": [],
   "source": [
    "let rec fib n =\n",
    "    if n <= 1 then\n",
    "        n\n",
    "    else\n",
    "        fib(n-2) + fib(n-1)"
   ]
  },
  {
   "cell_type": "code",
   "execution_count": null,
   "id": "50c78b92",
   "metadata": {
    "dotnet_interactive": {
     "language": "fsharp"
    },
    "vscode": {
     "languageId": "dotnet-interactive.fsharp"
    }
   },
   "outputs": [
    {
     "data": {
      "text/html": [
       "<div class=\"dni-plaintext\">0</div>"
      ]
     },
     "metadata": {},
     "output_type": "display_data"
    }
   ],
   "source": [
    "fib(0)"
   ]
  },
  {
   "cell_type": "code",
   "execution_count": null,
   "id": "26fdc992",
   "metadata": {
    "dotnet_interactive": {
     "language": "fsharp"
    },
    "vscode": {
     "languageId": "dotnet-interactive.fsharp"
    }
   },
   "outputs": [
    {
     "data": {
      "text/html": [
       "<div class=\"dni-plaintext\">1</div>"
      ]
     },
     "metadata": {},
     "output_type": "display_data"
    }
   ],
   "source": [
    "fib(1)"
   ]
  },
  {
   "cell_type": "code",
   "execution_count": null,
   "id": "de402bdc",
   "metadata": {
    "dotnet_interactive": {
     "language": "fsharp"
    },
    "vscode": {
     "languageId": "dotnet-interactive.fsharp"
    }
   },
   "outputs": [
    {
     "data": {
      "text/html": [
       "<div class=\"dni-plaintext\">1</div>"
      ]
     },
     "metadata": {},
     "output_type": "display_data"
    }
   ],
   "source": [
    "fib(2)"
   ]
  },
  {
   "cell_type": "code",
   "execution_count": null,
   "id": "0924f7ed",
   "metadata": {
    "dotnet_interactive": {
     "language": "fsharp"
    },
    "vscode": {
     "languageId": "dotnet-interactive.fsharp"
    }
   },
   "outputs": [
    {
     "data": {
      "text/html": [
       "<div class=\"dni-plaintext\">2</div>"
      ]
     },
     "metadata": {},
     "output_type": "display_data"
    }
   ],
   "source": [
    "fib(3)"
   ]
  },
  {
   "cell_type": "code",
   "execution_count": null,
   "id": "4a267f7d",
   "metadata": {
    "dotnet_interactive": {
     "language": "fsharp"
    },
    "vscode": {
     "languageId": "dotnet-interactive.fsharp"
    }
   },
   "outputs": [
    {
     "data": {
      "text/html": [
       "<div class=\"dni-plaintext\">3</div>"
      ]
     },
     "metadata": {},
     "output_type": "display_data"
    }
   ],
   "source": [
    "fib(4)"
   ]
  },
  {
   "cell_type": "code",
   "execution_count": null,
   "id": "230acfe4",
   "metadata": {
    "dotnet_interactive": {
     "language": "fsharp"
    },
    "vscode": {
     "languageId": "dotnet-interactive.fsharp"
    }
   },
   "outputs": [
    {
     "data": {
      "text/html": [
       "<div class=\"dni-plaintext\">21</div>"
      ]
     },
     "metadata": {},
     "output_type": "display_data"
    }
   ],
   "source": [
    "fib(8)"
   ]
  }
 ],
 "metadata": {
  "kernelspec": {
   "display_name": ".NET (C#)",
   "language": "C#",
   "name": ".net-csharp"
  },
  "language_info": {
   "file_extension": ".cs",
   "mimetype": "text/x-csharp",
   "name": "C#",
   "pygments_lexer": "csharp",
   "version": "9.0"
  },
  "vscode": {
   "interpreter": {
    "hash": "62b6d5c1d9aaf14841c41776eb50d8c6384f02e8263d8df7082f434204b18b54"
   }
  }
 },
 "nbformat": 4,
 "nbformat_minor": 5
}
