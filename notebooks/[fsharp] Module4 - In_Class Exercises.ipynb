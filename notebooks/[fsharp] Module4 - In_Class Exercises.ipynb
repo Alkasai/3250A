{
 "cells": [
  {
   "cell_type": "code",
   "execution_count": 2,
   "metadata": {
    "dotnet_interactive": {
     "language": "fsharp"
    },
    "vscode": {
     "languageId": "dotnet-interactive.fsharp"
    }
   },
   "outputs": [
    {
     "data": {
      "text/html": [
       "<div><div></div><div></div><div><strong>Installed Packages</strong><ul><li><span>Deedle.Interactive, 3.0.0-beta.1</span></li></ul></div></div>"
      ]
     },
     "metadata": {},
     "output_type": "display_data"
    },
    {
     "data": {
      "text/markdown": [
       "Loading extensions from `Deedle.Interactive.dll`"
      ]
     },
     "metadata": {},
     "output_type": "display_data"
    }
   ],
   "source": [
    "#r \"nuget:Deedle.Interactive,3.0.0-beta.1\""
   ]
  },
  {
   "cell_type": "code",
   "execution_count": 3,
   "metadata": {
    "dotnet_interactive": {
     "language": "fsharp"
    },
    "vscode": {
     "languageId": "dotnet-interactive.fsharp"
    }
   },
   "outputs": [],
   "source": [
    "open Deedle"
   ]
  },
  {
   "cell_type": "code",
   "execution_count": 4,
   "metadata": {
    "dotnet_interactive": {
     "language": "fsharp"
    },
    "vscode": {
     "languageId": "dotnet-interactive.fsharp"
    }
   },
   "outputs": [],
   "source": [
    "let customers = Frame.ReadCsv(\"customers.csv\")\n",
    "let transactions = Frame.ReadCsv(\"transactions.csv\")"
   ]
  },
  {
   "cell_type": "code",
   "execution_count": 5,
   "metadata": {
    "dotnet_interactive": {
     "language": "fsharp"
    },
    "vscode": {
     "languageId": "dotnet-interactive.fsharp"
    }
   },
   "outputs": [
    {
     "data": {
      "text/html": [
       "<div>\r\n",
       "<style scoped>,\r\n",
       "  .dataframe tbody tr th:only-of-type {\r\n",
       "    vertical-align: middle;\r\n",
       "  }\r\n",
       "  .dataframe tbody tr th {,\r\n",
       "    vertical-align: top\r\n",
       "  }\r\n",
       "  .dataframe thead th {\r\n",
       "    text-align: right;\r\n",
       "  }\r\n",
       "  .no-wrap {\r\n",
       "    white-space: nowrap;\r\n",
       "  }\r\n",
       "</style>\r\n",
       "<table border='1' class='dataframe'>\r\n",
       "<thead><th></th><th></th><th>id</th><th>cust_name</th><th>num_products</th><th>province</th><th>len_relationship</th><th>cust_category</th></thead><thead><th></th><th></th><th>(int)</th><th>(string)</th><th>(int)</th><th>(string)</th><th>(int)</th><th>(string)</th></thead>\r\n",
       "<tr><td><b>0</b></td><td class=\"no-wrap\">-></td><td>1001</td><td>Johnny Awesome</td><td>3</td><td>ON</td><td>1</td><td>wealth</td></tr><tr><td><b>1</b></td><td class=\"no-wrap\">-></td><td>1002</td><td>Bob Marley</td><td>4</td><td>ON</td><td>1</td><td>personal_banking</td></tr><tr><td><b>2</b></td><td class=\"no-wrap\">-></td><td>1004</td><td>Taylor Swift</td><td>2</td><td>AB</td><td>2</td><td>hnw</td></tr><tr><td><b>3</b></td><td class=\"no-wrap\">-></td><td>1101</td><td>James Dean</td><td>3</td><td>BC</td><td>3</td><td>wealth</td></tr><tr><td><b>4</b></td><td class=\"no-wrap\">-></td><td>1006</td><td>Stephen Smith</td><td>5</td><td>ON</td><td>4</td><td>hnw</td></tr>\r\n",
       "</table>\r\n",
       "<p><b>5</b> rows x <b>6</b> columns</p><p><b>0</b> missing values</p>\r\n",
       "</div>\r\n"
      ]
     },
     "metadata": {},
     "output_type": "display_data"
    }
   ],
   "source": [
    "customers\n",
    "|> Frame.take 5"
   ]
  },
  {
   "cell_type": "code",
   "execution_count": 6,
   "metadata": {
    "dotnet_interactive": {
     "language": "fsharp"
    },
    "vscode": {
     "languageId": "dotnet-interactive.fsharp"
    }
   },
   "outputs": [
    {
     "data": {
      "text/html": [
       "<div>\r\n",
       "<style scoped>,\r\n",
       "  .dataframe tbody tr th:only-of-type {\r\n",
       "    vertical-align: middle;\r\n",
       "  }\r\n",
       "  .dataframe tbody tr th {,\r\n",
       "    vertical-align: top\r\n",
       "  }\r\n",
       "  .dataframe thead th {\r\n",
       "    text-align: right;\r\n",
       "  }\r\n",
       "  .no-wrap {\r\n",
       "    white-space: nowrap;\r\n",
       "  }\r\n",
       "</style>\r\n",
       "<table border='1' class='dataframe'>\r\n",
       "<thead><th></th><th></th><th>id</th><th>customer_id</th><th>txn_type</th><th>txn_total</th></thead><thead><th></th><th></th><th>(int)</th><th>(int)</th><th>(string)</th><th>(Decimal)</th></thead>\r\n",
       "<tr><td><b>0</b></td><td class=\"no-wrap\">-></td><td>1</td><td>1001</td><td>Debit</td><td>165.78</td></tr><tr><td><b>1</b></td><td class=\"no-wrap\">-></td><td>2</td><td>1001</td><td>Credit</td><td>42.1</td></tr><tr><td><b>2</b></td><td class=\"no-wrap\">-></td><td>4</td><td>1001</td><td>Credit</td><td>103.03</td></tr><tr><td><b>3</b></td><td class=\"no-wrap\">-></td><td>5</td><td>1001</td><td>Credit</td><td>56.6</td></tr><tr><td><b>4</b></td><td class=\"no-wrap\">-></td><td>6</td><td>1002</td><td>Debit</td><td>214.34</td></tr>\r\n",
       "</table>\r\n",
       "<p><b>5</b> rows x <b>4</b> columns</p><p><b>0</b> missing values</p>\r\n",
       "</div>\r\n"
      ]
     },
     "metadata": {},
     "output_type": "display_data"
    }
   ],
   "source": [
    "transactions\n",
    "|> Frame.take 5"
   ]
  },
  {
   "cell_type": "code",
   "execution_count": 7,
   "metadata": {
    "dotnet_interactive": {
     "language": "fsharp"
    },
    "vscode": {
     "languageId": "dotnet-interactive.fsharp"
    }
   },
   "outputs": [],
   "source": [
    "customers.RenameColumn(\"id\", \"customer_id\")"
   ]
  },
  {
   "cell_type": "code",
   "execution_count": 8,
   "metadata": {
    "dotnet_interactive": {
     "language": "fsharp"
    },
    "vscode": {
     "languageId": "dotnet-interactive.fsharp"
    }
   },
   "outputs": [],
   "source": [
    "let customerIndexed = customers.IndexRows<int>(\"customer_id\")"
   ]
  },
  {
   "cell_type": "code",
   "execution_count": 9,
   "metadata": {
    "dotnet_interactive": {
     "language": "fsharp"
    },
    "vscode": {
     "languageId": "dotnet-interactive.fsharp"
    }
   },
   "outputs": [
    {
     "data": {
      "text/html": [
       "<div>\r\n",
       "<style scoped>,\r\n",
       "  .dataframe tbody tr th:only-of-type {\r\n",
       "    vertical-align: middle;\r\n",
       "  }\r\n",
       "  .dataframe tbody tr th {,\r\n",
       "    vertical-align: top\r\n",
       "  }\r\n",
       "  .dataframe thead th {\r\n",
       "    text-align: right;\r\n",
       "  }\r\n",
       "  .no-wrap {\r\n",
       "    white-space: nowrap;\r\n",
       "  }\r\n",
       "</style>\r\n",
       "<table border='1' class='dataframe'>\r\n",
       "<thead><th></th><th></th><th>cust_name</th><th>num_products</th><th>province</th><th>len_relationship</th><th>cust_category</th></thead><thead><th></th><th></th><th>(string)</th><th>(int)</th><th>(string)</th><th>(int)</th><th>(string)</th></thead>\r\n",
       "<tr><td><b>1001</b></td><td class=\"no-wrap\">-></td><td>Johnny Awesome</td><td>3</td><td>ON</td><td>1</td><td>wealth</td></tr><tr><td><b>1002</b></td><td class=\"no-wrap\">-></td><td>Bob Marley</td><td>4</td><td>ON</td><td>1</td><td>personal_banking</td></tr><tr><td><b>1004</b></td><td class=\"no-wrap\">-></td><td>Taylor Swift</td><td>2</td><td>AB</td><td>2</td><td>hnw</td></tr><tr><td><b>1101</b></td><td class=\"no-wrap\">-></td><td>James Dean</td><td>3</td><td>BC</td><td>3</td><td>wealth</td></tr><tr><td><b>1006</b></td><td class=\"no-wrap\">-></td><td>Stephen Smith</td><td>5</td><td>ON</td><td>4</td><td>hnw</td></tr><tr><td><b>:</b></td><td class=\"no-wrap\"></td><td>...</td><td>...</td><td>...</td><td>...</td><td>...</td></tr><tr><td><b>1354</b></td><td class=\"no-wrap\">-></td><td>Jessica Fast</td><td>4</td><td>BC</td><td>5</td><td>personal_banking</td></tr><tr><td><b>1005</b></td><td class=\"no-wrap\">-></td><td>Mariah Anita Smith</td><td>2</td><td>BC</td><td>3</td><td>personal_banking</td></tr><tr><td><b>1008</b></td><td class=\"no-wrap\">-></td><td>Robert Optimus</td><td>3</td><td>MB</td><td>10</td><td>hnw</td></tr><tr><td><b>1585</b></td><td class=\"no-wrap\">-></td><td>Steven Prime</td><td>5</td><td>AB</td><td>2</td><td>wealth</td></tr><tr><td><b>1475</b></td><td class=\"no-wrap\">-></td><td>Stephanie Element</td><td>2</td><td>ON</td><td>5</td><td>personal_banking</td></tr>\r\n",
       "</table>\r\n",
       "<p><b>13</b> rows x <b>5</b> columns</p><p><b>0</b> missing values</p>\r\n",
       "</div>\r\n"
      ]
     },
     "metadata": {},
     "output_type": "display_data"
    }
   ],
   "source": [
    "customerIndexed"
   ]
  },
  {
   "cell_type": "code",
   "execution_count": 10,
   "metadata": {
    "dotnet_interactive": {
     "language": "fsharp"
    },
    "vscode": {
     "languageId": "dotnet-interactive.fsharp"
    }
   },
   "outputs": [
    {
     "data": {
      "text/html": [
       "<div>\r\n",
       "<style scoped>,\r\n",
       "  .dataframe tbody tr th:only-of-type {\r\n",
       "    vertical-align: middle;\r\n",
       "  }\r\n",
       "  .dataframe tbody tr th {,\r\n",
       "    vertical-align: top\r\n",
       "  }\r\n",
       "  .dataframe thead th {\r\n",
       "    text-align: right;\r\n",
       "  }\r\n",
       "  .no-wrap {\r\n",
       "    white-space: nowrap;\r\n",
       "  }\r\n",
       "</style>\r\n",
       "<table border='1' class='dataframe'>\r\n",
       "<thead><th></th><th></th><th>id</th><th>customer_id</th><th>txn_type</th><th>txn_total</th></thead><thead><th></th><th></th><th>(int)</th><th>(int)</th><th>(string)</th><th>(Decimal)</th></thead>\r\n",
       "<tr><td><b>0</b></td><td class=\"no-wrap\">-></td><td>1</td><td>1001</td><td>Debit</td><td>165.78</td></tr><tr><td><b>1</b></td><td class=\"no-wrap\">-></td><td>2</td><td>1001</td><td>Credit</td><td>42.1</td></tr><tr><td><b>2</b></td><td class=\"no-wrap\">-></td><td>4</td><td>1001</td><td>Credit</td><td>103.03</td></tr><tr><td><b>3</b></td><td class=\"no-wrap\">-></td><td>5</td><td>1001</td><td>Credit</td><td>56.6</td></tr><tr><td><b>4</b></td><td class=\"no-wrap\">-></td><td>6</td><td>1002</td><td>Debit</td><td>214.34</td></tr><tr><td><b>:</b></td><td class=\"no-wrap\"></td><td>...</td><td>...</td><td>...</td><td>...</td></tr><tr><td><b>29</b></td><td class=\"no-wrap\">-></td><td>31</td><td>1354</td><td>Credit</td><td>438.29</td></tr><tr><td><b>30</b></td><td class=\"no-wrap\">-></td><td>32</td><td>1005</td><td>Debit</td><td>122.06</td></tr><tr><td><b>31</b></td><td class=\"no-wrap\">-></td><td>33</td><td>1008</td><td>Cash</td><td>166.44</td></tr><tr><td><b>32</b></td><td class=\"no-wrap\">-></td><td>34</td><td>1585</td><td>Debit</td><td>307.91</td></tr><tr><td><b>33</b></td><td class=\"no-wrap\">-></td><td>35</td><td>1475</td><td>Cash</td><td>266.30</td></tr>\r\n",
       "</table>\r\n",
       "<p><b>34</b> rows x <b>4</b> columns</p><p><b>0</b> missing values</p>\r\n",
       "</div>\r\n"
      ]
     },
     "metadata": {},
     "output_type": "display_data"
    }
   ],
   "source": [
    "transactions"
   ]
  },
  {
   "cell_type": "code",
   "execution_count": 11,
   "metadata": {
    "dotnet_interactive": {
     "language": "fsharp"
    },
    "vscode": {
     "languageId": "dotnet-interactive.fsharp"
    }
   },
   "outputs": [],
   "source": [
    "transactions.RenameColumn(\"id\", \"txn_id\")"
   ]
  },
  {
   "cell_type": "code",
   "execution_count": 12,
   "metadata": {
    "dotnet_interactive": {
     "language": "fsharp"
    },
    "vscode": {
     "languageId": "dotnet-interactive.fsharp"
    }
   },
   "outputs": [
    {
     "data": {
      "text/html": [
       "<div>\r\n",
       "<style scoped>,\r\n",
       "  .dataframe tbody tr th:only-of-type {\r\n",
       "    vertical-align: middle;\r\n",
       "  }\r\n",
       "  .dataframe tbody tr th {,\r\n",
       "    vertical-align: top\r\n",
       "  }\r\n",
       "  .dataframe thead th {\r\n",
       "    text-align: right;\r\n",
       "  }\r\n",
       "  .no-wrap {\r\n",
       "    white-space: nowrap;\r\n",
       "  }\r\n",
       "</style>\r\n",
       "<table border='1' class='dataframe'>\r\n",
       "<thead><th></th><th></th><th>txn_id</th><th>customer_id</th><th>txn_type</th><th>txn_total</th></thead><thead><th></th><th></th><th>(int)</th><th>(int)</th><th>(string)</th><th>(Decimal)</th></thead>\r\n",
       "<tr><td><b>0</b></td><td class=\"no-wrap\">-></td><td>1</td><td>1001</td><td>Debit</td><td>165.78</td></tr><tr><td><b>1</b></td><td class=\"no-wrap\">-></td><td>2</td><td>1001</td><td>Credit</td><td>42.1</td></tr><tr><td><b>2</b></td><td class=\"no-wrap\">-></td><td>4</td><td>1001</td><td>Credit</td><td>103.03</td></tr><tr><td><b>3</b></td><td class=\"no-wrap\">-></td><td>5</td><td>1001</td><td>Credit</td><td>56.6</td></tr><tr><td><b>4</b></td><td class=\"no-wrap\">-></td><td>6</td><td>1002</td><td>Debit</td><td>214.34</td></tr><tr><td><b>:</b></td><td class=\"no-wrap\"></td><td>...</td><td>...</td><td>...</td><td>...</td></tr><tr><td><b>29</b></td><td class=\"no-wrap\">-></td><td>31</td><td>1354</td><td>Credit</td><td>438.29</td></tr><tr><td><b>30</b></td><td class=\"no-wrap\">-></td><td>32</td><td>1005</td><td>Debit</td><td>122.06</td></tr><tr><td><b>31</b></td><td class=\"no-wrap\">-></td><td>33</td><td>1008</td><td>Cash</td><td>166.44</td></tr><tr><td><b>32</b></td><td class=\"no-wrap\">-></td><td>34</td><td>1585</td><td>Debit</td><td>307.91</td></tr><tr><td><b>33</b></td><td class=\"no-wrap\">-></td><td>35</td><td>1475</td><td>Cash</td><td>266.30</td></tr>\r\n",
       "</table>\r\n",
       "<p><b>34</b> rows x <b>4</b> columns</p><p><b>0</b> missing values</p>\r\n",
       "</div>\r\n"
      ]
     },
     "metadata": {},
     "output_type": "display_data"
    }
   ],
   "source": [
    "transactions"
   ]
  },
  {
   "cell_type": "markdown",
   "metadata": {},
   "source": [
    "Deedle doesn't support indexing columns with duplicate values. How do we join 2 dataframes?"
   ]
  },
  {
   "cell_type": "code",
   "execution_count": 13,
   "metadata": {
    "dotnet_interactive": {
     "language": "fsharp"
    },
    "vscode": {
     "languageId": "dotnet-interactive.fsharp"
    }
   },
   "outputs": [],
   "source": [
    "// Series.zip workOrders workOrderScores\n",
    "// |> Series.map(fun _ (orders, scores) ->\n",
    "//     match orders, scores with\n",
    "//     | OptionalValue.Present s1, OptionalValue.Present s2 ->\n",
    "//         // There is a frame with some rows with the specified code in both\n",
    "//         // work orders and work order scores - we return a cross product of their rows\n",
    "//         [ for r1 in s1.Rows.Values do\n",
    "//           for r2 in s2.Rows.Values do\n",
    "//           // Drop workOrderCode from one series (they are the same in both)\n",
    "//           // and append the two rows & return that as the result\n",
    "//           yield (r1, (Series.filter (fun k _ -> k <> \"workOrderCode\") r2)) ]\n",
    "//         // |> Frame.ofRowsOrdinal\n",
    "//     // If left or right value is missing, we just return the columns\n",
    "//     // that are available (others will be filled with NaN)\n",
    "//     | OptionalValue.Present s, s2\n",
    "//     | s1, OptionalValue.Present s2 -> failwith \"blah\"\n",
    "//     | _ -> s\n",
    "//   )\n",
    "// // |> Frame.unnest\n",
    "// // |> Frame.indexRowsOrdinally"
   ]
  },
  {
   "cell_type": "code",
   "execution_count": 14,
   "metadata": {
    "dotnet_interactive": {
     "language": "fsharp"
    },
    "vscode": {
     "languageId": "dotnet-interactive.fsharp"
    }
   },
   "outputs": [],
   "source": [
    "// transactions.SortColumnsByKey().Join(customers)"
   ]
  },
  {
   "cell_type": "markdown",
   "metadata": {},
   "source": [
    "Write a function to display a Series object with only the names of Wealth customers."
   ]
  },
  {
   "cell_type": "code",
   "execution_count": 15,
   "metadata": {
    "dotnet_interactive": {
     "language": "fsharp"
    },
    "vscode": {
     "languageId": "dotnet-interactive.fsharp"
    }
   },
   "outputs": [
    {
     "data": {
      "text/html": [
       "<div>\r\n",
       "<style scoped>,\r\n",
       "  .dataframe tbody tr th:only-of-type {\r\n",
       "    vertical-align: middle;\r\n",
       "  }\r\n",
       "  .dataframe tbody tr th {,\r\n",
       "    vertical-align: top\r\n",
       "  }\r\n",
       "  .dataframe thead th {\r\n",
       "    text-align: right;\r\n",
       "  }\r\n",
       "  .no-wrap {\r\n",
       "    white-space: nowrap;\r\n",
       "  }\r\n",
       "</style>\r\n",
       "<table border='1' class='dataframe'>\r\n",
       "<thead><th></th><th></th><th>cust_category</th></thead><thead><th></th><th></th><th>(string)</th></thead>\r\n",
       "<tr><td><b>Johnny Awesome</b></td><td class=\"no-wrap\">-></td><td>wealth</td></tr><tr><td><b>James Dean</b></td><td class=\"no-wrap\">-></td><td>wealth</td></tr><tr><td><b>Maria Alva</b></td><td class=\"no-wrap\">-></td><td>wealth</td></tr><tr><td><b>Steven Prime</b></td><td class=\"no-wrap\">-></td><td>wealth</td></tr>\r\n",
       "</table>\r\n",
       "<p><b>4</b> rows x <b>1</b> columns</p><p><b>0</b> missing values</p>\r\n",
       "</div>\r\n"
      ]
     },
     "metadata": {},
     "output_type": "display_data"
    }
   ],
   "source": [
    "customers\n",
    "|> Frame.filterRowValues (fun row -> row.GetAs<string>(\"cust_category\") = \"wealth\")\n",
    "|> Frame.indexRowsString \"cust_name\"\n",
    "|> Frame.sliceCols [\"cust_category\"]\n",
    "// |> (fun df -> df.GetColumn<string>(\"cust_category\"))"
   ]
  },
  {
   "cell_type": "markdown",
   "metadata": {},
   "source": [
    "Write a function to identify all PersonalBanking customers with more than 3 products."
   ]
  },
  {
   "cell_type": "code",
   "execution_count": 16,
   "metadata": {
    "dotnet_interactive": {
     "language": "fsharp"
    },
    "vscode": {
     "languageId": "dotnet-interactive.fsharp"
    }
   },
   "outputs": [
    {
     "data": {
      "text/html": [
       "<div>\r\n",
       "<style scoped>,\r\n",
       "  .dataframe tbody tr th:only-of-type {\r\n",
       "    vertical-align: middle;\r\n",
       "  }\r\n",
       "  .dataframe tbody tr th {,\r\n",
       "    vertical-align: top\r\n",
       "  }\r\n",
       "  .dataframe thead th {\r\n",
       "    text-align: right;\r\n",
       "  }\r\n",
       "  .no-wrap {\r\n",
       "    white-space: nowrap;\r\n",
       "  }\r\n",
       "</style>\r\n",
       "<table border='1' class='dataframe'>\r\n",
       "<thead><th></th><th></th><th>customer_id</th><th>cust_name</th><th>num_products</th><th>province</th><th>len_relationship</th><th>cust_category</th></thead><thead><th></th><th></th><th>(int)</th><th>(string)</th><th>(int)</th><th>(string)</th><th>(int)</th><th>(string)</th></thead>\r\n",
       "<tr><td><b>1</b></td><td class=\"no-wrap\">-></td><td>1002</td><td>Bob Marley</td><td>4</td><td>ON</td><td>1</td><td>personal_banking</td></tr><tr><td><b>8</b></td><td class=\"no-wrap\">-></td><td>1354</td><td>Jessica Fast</td><td>4</td><td>BC</td><td>5</td><td>personal_banking</td></tr>\r\n",
       "</table>\r\n",
       "<p><b>2</b> rows x <b>6</b> columns</p><p><b>0</b> missing values</p>\r\n",
       "</div>\r\n"
      ]
     },
     "metadata": {},
     "output_type": "display_data"
    }
   ],
   "source": [
    "// customers[(customers['cust_category'] == 'personal_banking') & (customers['num_products'] > 3)]\n",
    "\n",
    "customers\n",
    "|> Frame.filterRowValues (\n",
    "    fun row ->\n",
    "        row.GetAs<string>(\"cust_category\") = \"personal_banking\"\n",
    "        && row?num_products > 3\n",
    "    )\n"
   ]
  }
 ],
 "metadata": {
  "kernelspec": {
   "display_name": ".NET (C#)",
   "language": "C#",
   "name": ".net-csharp"
  },
  "language_info": {
   "file_extension": ".cs",
   "mimetype": "text/x-csharp",
   "name": "C#",
   "pygments_lexer": "csharp",
   "version": "9.0"
  },
  "vscode": {
   "interpreter": {
    "hash": "cbab5e14ac642e0b7d4f8b3c341f39ee1a1cfd41468eefd45b78af4896dd8d2b"
   }
  }
 },
 "nbformat": 4,
 "nbformat_minor": 4
}
