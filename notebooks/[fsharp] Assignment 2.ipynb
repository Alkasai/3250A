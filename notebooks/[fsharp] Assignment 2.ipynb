{
 "cells": [
  {
   "cell_type": "code",
   "execution_count": null,
   "metadata": {
    "dotnet_interactive": {
     "language": "fsharp"
    },
    "vscode": {
     "languageId": "dotnet-interactive.fsharp"
    }
   },
   "outputs": [],
   "source": [
    "let NAME = \"Alexey Adamsky\""
   ]
  },
  {
   "cell_type": "markdown",
   "metadata": {},
   "source": [
    "# Assignment 2 - Intro to Python\n",
    "\n",
    "(30 points)"
   ]
  },
  {
   "cell_type": "markdown",
   "metadata": {},
   "source": [
    "## Learning Outcomes\n",
    "\n",
    "In this assignment you will practice:\n",
    "\n",
    "- Basic Python syntax\n",
    "- Writing simple Python functions\n",
    "- Working with strings and dictionaries"
   ]
  },
  {
   "cell_type": "markdown",
   "metadata": {},
   "source": [
    "## Question #1: Count symbols\n",
    "\n",
    "(6 points)"
   ]
  },
  {
   "cell_type": "markdown",
   "metadata": {},
   "source": [
    "In this question, you are given a string `s` which represents a DNA string. The string `s` consists of symbols `'A', 'C', 'G',` and `'T'`. An example of a length 21 DNA string is `\"ATGCTTCAGAAAGGTCTTACG.\"` \n",
    "\n",
    "Your task is to write a code which will count the number of times each of the symbols `'A', 'C', 'G'`, and `'T'` occur in `s`. Your code should generate a **list of 4 integers** and **print it out**."
   ]
  },
  {
   "cell_type": "code",
   "execution_count": null,
   "metadata": {
    "dotnet_interactive": {
     "language": "fsharp"
    },
    "vscode": {
     "languageId": "dotnet-interactive.fsharp"
    }
   },
   "outputs": [],
   "source": [
    "// Here is the DNA string:\n",
    "type DNA = string\n",
    "let s = DNA \"AGCTTTTCATTCTGACTGCAACzGGGCAATATGTCTCTGTGTGGATTAAAAAAAGAGTGTCTGATAGCAGC\""
   ]
  },
  {
   "cell_type": "markdown",
   "metadata": {},
   "source": [
    "Use measures to ensure we are passing assing correct values to correct variables"
   ]
  },
  {
   "cell_type": "code",
   "execution_count": null,
   "metadata": {
    "dotnet_interactive": {
     "language": "fsharp"
    },
    "vscode": {
     "languageId": "dotnet-interactive.fsharp"
    }
   },
   "outputs": [],
   "source": [
    "[<Measure>] type A\n",
    "[<Measure>] type C\n",
    "[<Measure>] type G\n",
    "[<Measure>] type T\n",
    "[<Measure>] type Unrecognized"
   ]
  },
  {
   "cell_type": "code",
   "execution_count": null,
   "metadata": {
    "dotnet_interactive": {
     "language": "fsharp"
    },
    "vscode": {
     "languageId": "dotnet-interactive.fsharp"
    }
   },
   "outputs": [],
   "source": [
    "type AminoAcidCounts = {\n",
    "    A: int<A>\n",
    "    C: int<C>\n",
    "    G: int<G>\n",
    "    T: int<T>\n",
    "    Unrecognized: int<Unrecognized>\n",
    "}"
   ]
  },
  {
   "cell_type": "code",
   "execution_count": null,
   "metadata": {
    "dotnet_interactive": {
     "language": "fsharp"
    },
    "vscode": {
     "languageId": "dotnet-interactive.fsharp"
    }
   },
   "outputs": [],
   "source": [
    "let printOccurrences (dna: DNA) (counts: AminoAcidCounts) =\n",
    "    printfn $\"There are %i{counts.A} occurrences of A, %i{counts.C} occurrences of C, %i{counts.G} occurrences of G and %i{counts.T} occurrences of T in the DNA '%s{dna}'\"\n",
    "\n",
    "    counts.Unrecognized\n",
    "    |> function\n",
    "        | u when u = 1<Unrecognized> -> Some (u, \"was\", \"occurrence\")\n",
    "        | u when u > 1<Unrecognized> -> Some (u, \"were\", \"occurrences\")\n",
    "        | _ -> None\n",
    "    |> function\n",
    "        | Some (u, was, occurrence) -> printfn $\"There %s{was} %i{u} unrecognised amino acid %s{occurrence}!\"\n",
    "        | None -> ()"
   ]
  },
  {
   "cell_type": "markdown",
   "metadata": {},
   "source": [
    "Use active pattern to parse amino acid letters to discriminated union type."
   ]
  },
  {
   "cell_type": "code",
   "execution_count": null,
   "metadata": {
    "dotnet_interactive": {
     "language": "fsharp"
    },
    "vscode": {
     "languageId": "dotnet-interactive.fsharp"
    }
   },
   "outputs": [],
   "source": [
    "let (|A|C|G|T|Unrecognized|) =\n",
    "    function\n",
    "    | 'A' -> A\n",
    "    | 'C' -> C\n",
    "    | 'G' -> G\n",
    "    | 'T' -> T\n",
    "    | _ -> Unrecognized"
   ]
  },
  {
   "cell_type": "code",
   "execution_count": null,
   "metadata": {
    "dotnet_interactive": {
     "language": "fsharp"
    },
    "vscode": {
     "languageId": "dotnet-interactive.fsharp"
    }
   },
   "outputs": [
    {
     "data": {
      "text/html": [
       "<table><thead><tr><th>A</th><th>C</th><th>G</th><th>T</th><th>Unrecognized</th></tr></thead><tbody><tr><td><div class=\"dni-plaintext\">20</div></td><td><div class=\"dni-plaintext\">12</div></td><td><div class=\"dni-plaintext\">17</div></td><td><div class=\"dni-plaintext\">21</div></td><td><div class=\"dni-plaintext\">1</div></td></tr></tbody></table>"
      ]
     },
     "metadata": {},
     "output_type": "display_data"
    }
   ],
   "source": [
    "let counts =\n",
    "    s\n",
    "    |> Seq.fold\n",
    "        (\n",
    "            fun (counts: AminoAcidCounts) l ->\n",
    "                match l with\n",
    "                | A -> { counts with A = counts.A + 1<A> }\n",
    "                | C -> { counts with C = counts.C + 1<C> }\n",
    "                | G -> { counts with G = counts.G + 1<G> }\n",
    "                | T -> { counts with T = counts.T + 1<T> }\n",
    "                | Unrecognized -> { counts with Unrecognized = counts.Unrecognized + 1<Unrecognized> }\n",
    "        )\n",
    "        { A = 0<A>; C = 0<C>; G = 0<G>; T = 0<T>; Unrecognized = 0<Unrecognized> }\n",
    "counts"
   ]
  },
  {
   "cell_type": "code",
   "execution_count": null,
   "metadata": {
    "dotnet_interactive": {
     "language": "fsharp"
    },
    "vscode": {
     "languageId": "dotnet-interactive.fsharp"
    }
   },
   "outputs": [
    {
     "name": "stdout",
     "output_type": "stream",
     "text": [
      "There are 20 occurrences of A, 12 occurrences of C, 17 occurrences of G and 21 occurrences of T in the DNA 'AGCTTTTCATTCTGACTGCAACzGGGCAATATGTCTCTGTGTGGATTAAAAAAAGAGTGTCTGATAGCAGC'\r\n",
      "There was 1 unrecognised amino acid occurrence!\r\n"
     ]
    }
   ],
   "source": [
    "counts |> (printOccurrences s)"
   ]
  },
  {
   "cell_type": "code",
   "execution_count": null,
   "metadata": {
    "dotnet_interactive": {
     "language": "fsharp"
    },
    "vscode": {
     "languageId": "dotnet-interactive.fsharp"
    }
   },
   "outputs": [],
   "source": []
  }
 ],
 "metadata": {
  "kernelspec": {
   "display_name": ".NET (F#)",
   "language": "F#",
   "name": ".net-fsharp"
  },
  "language_info": {
   "name": "F#"
  }
 },
 "nbformat": 4,
 "nbformat_minor": 2
}
