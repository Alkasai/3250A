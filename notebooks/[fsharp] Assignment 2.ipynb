{
 "cells": [
  {
   "cell_type": "code",
   "execution_count": null,
   "metadata": {
    "dotnet_interactive": {
     "language": "fsharp"
    },
    "vscode": {
     "languageId": "dotnet-interactive.fsharp"
    }
   },
   "outputs": [],
   "source": [
    "let NAME = \"Alexey Adamsky\""
   ]
  },
  {
   "cell_type": "markdown",
   "metadata": {},
   "source": [
    "# Assignment 2 - Intro to Python\n",
    "\n",
    "(30 points)"
   ]
  },
  {
   "cell_type": "markdown",
   "metadata": {},
   "source": [
    "## Learning Outcomes\n",
    "\n",
    "In this assignment you will practice:\n",
    "\n",
    "- Basic Python syntax\n",
    "- Writing simple Python functions\n",
    "- Working with strings and dictionaries"
   ]
  },
  {
   "cell_type": "markdown",
   "metadata": {},
   "source": [
    "## Question #1: Count symbols\n",
    "\n",
    "(6 points)"
   ]
  },
  {
   "cell_type": "markdown",
   "metadata": {},
   "source": [
    "In this question, you are given a string `s` which represents a DNA string. The string `s` consists of symbols `'A', 'C', 'G',` and `'T'`. An example of a length 21 DNA string is `\"ATGCTTCAGAAAGGTCTTACG.\"` \n",
    "\n",
    "Your task is to write a code which will count the number of times each of the symbols `'A', 'C', 'G'`, and `'T'` occur in `s`. Your code should generate a **list of 4 integers** and **print it out**."
   ]
  },
  {
   "cell_type": "code",
   "execution_count": null,
   "metadata": {
    "dotnet_interactive": {
     "language": "fsharp"
    },
    "vscode": {
     "languageId": "dotnet-interactive.fsharp"
    }
   },
   "outputs": [],
   "source": [
    "// Here is the DNA string:\n",
    "type DNA = string\n",
    "let s = DNA \"AGCTTTTCATTCTGACTGCAACzGGGCAATATGTCTCTGTGTGGATTAAAAAAAGAGTGTCTGATAGCAGC\""
   ]
  },
  {
   "cell_type": "markdown",
   "metadata": {},
   "source": [
    "Use measures to ensure we are passing assing correct values to correct variables"
   ]
  },
  {
   "cell_type": "code",
   "execution_count": null,
   "metadata": {
    "dotnet_interactive": {
     "language": "fsharp"
    },
    "vscode": {
     "languageId": "dotnet-interactive.fsharp"
    }
   },
   "outputs": [],
   "source": [
    "[<Measure>] type A\n",
    "[<Measure>] type C\n",
    "[<Measure>] type G\n",
    "[<Measure>] type T\n",
    "[<Measure>] type Unrecognized"
   ]
  },
  {
   "cell_type": "code",
   "execution_count": null,
   "metadata": {
    "dotnet_interactive": {
     "language": "fsharp"
    },
    "vscode": {
     "languageId": "dotnet-interactive.fsharp"
    }
   },
   "outputs": [],
   "source": [
    "type AminoAcidCounts = {\n",
    "    A: int<A>\n",
    "    C: int<C>\n",
    "    G: int<G>\n",
    "    T: int<T>\n",
    "    Unrecognized: int<Unrecognized>\n",
    "}"
   ]
  },
  {
   "cell_type": "code",
   "execution_count": null,
   "metadata": {
    "dotnet_interactive": {
     "language": "fsharp"
    },
    "vscode": {
     "languageId": "dotnet-interactive.fsharp"
    }
   },
   "outputs": [],
   "source": [
    "let printOccurrences (dna: DNA) (counts: AminoAcidCounts) =\n",
    "    printfn $\"There are %i{counts.A} occurrences of A, %i{counts.C} occurrences of C, %i{counts.G} occurrences of G and %i{counts.T} occurrences of T in the DNA '%s{dna}'\"\n",
    "\n",
    "    counts.Unrecognized\n",
    "    |> function\n",
    "        | u when u = 1<Unrecognized> -> Some (u, \"was\", \"occurrence\")\n",
    "        | u when u > 1<Unrecognized> -> Some (u, \"were\", \"occurrences\")\n",
    "        | _ -> None\n",
    "    |> function\n",
    "        | Some (u, was, occurrence) -> printfn $\"There %s{was} %i{u} unrecognised amino acid %s{occurrence}!\"\n",
    "        | None -> ()"
   ]
  },
  {
   "cell_type": "markdown",
   "metadata": {},
   "source": [
    "Use active pattern to parse amino acid letters to discriminated union type."
   ]
  },
  {
   "cell_type": "code",
   "execution_count": null,
   "metadata": {
    "dotnet_interactive": {
     "language": "fsharp"
    },
    "vscode": {
     "languageId": "dotnet-interactive.fsharp"
    }
   },
   "outputs": [],
   "source": [
    "let (|A|C|G|T|Unrecognized|) =\n",
    "    function\n",
    "    | 'A' -> A\n",
    "    | 'C' -> C\n",
    "    | 'G' -> G\n",
    "    | 'T' -> T\n",
    "    | _ -> Unrecognized"
   ]
  },
  {
   "cell_type": "code",
   "execution_count": null,
   "metadata": {
    "dotnet_interactive": {
     "language": "fsharp"
    },
    "vscode": {
     "languageId": "dotnet-interactive.fsharp"
    }
   },
   "outputs": [
    {
     "data": {
      "text/html": [
       "<table><thead><tr><th>A</th><th>C</th><th>G</th><th>T</th><th>Unrecognized</th></tr></thead><tbody><tr><td><div class=\"dni-plaintext\">20</div></td><td><div class=\"dni-plaintext\">12</div></td><td><div class=\"dni-plaintext\">17</div></td><td><div class=\"dni-plaintext\">21</div></td><td><div class=\"dni-plaintext\">1</div></td></tr></tbody></table>"
      ]
     },
     "metadata": {},
     "output_type": "display_data"
    }
   ],
   "source": [
    "let counts =\n",
    "    s\n",
    "    |> Seq.fold\n",
    "        (\n",
    "            fun (counts: AminoAcidCounts) l ->\n",
    "                match l with\n",
    "                | A -> { counts with A = counts.A + 1<A> }\n",
    "                | C -> { counts with C = counts.C + 1<C> }\n",
    "                | G -> { counts with G = counts.G + 1<G> }\n",
    "                | T -> { counts with T = counts.T + 1<T> }\n",
    "                | Unrecognized -> { counts with Unrecognized = counts.Unrecognized + 1<Unrecognized> }\n",
    "        )\n",
    "        { A = 0<A>; C = 0<C>; G = 0<G>; T = 0<T>; Unrecognized = 0<Unrecognized> }\n",
    "counts"
   ]
  },
  {
   "cell_type": "code",
   "execution_count": null,
   "metadata": {
    "dotnet_interactive": {
     "language": "fsharp"
    },
    "vscode": {
     "languageId": "dotnet-interactive.fsharp"
    }
   },
   "outputs": [
    {
     "name": "stdout",
     "output_type": "stream",
     "text": [
      "There are 20 occurrences of A, 12 occurrences of C, 17 occurrences of G and 21 occurrences of T in the DNA 'AGCTTTTCATTCTGACTGCAACzGGGCAATATGTCTCTGTGTGGATTAAAAAAAGAGTGTCTGATAGCAGC'\r\n",
      "There was 1 unrecognised amino acid occurrence!\r\n"
     ]
    }
   ],
   "source": [
    "counts |> (printOccurrences s)"
   ]
  },
  {
   "cell_type": "markdown",
   "metadata": {
    "dotnet_interactive": {
     "language": "fsharp"
    },
    "vscode": {
     "languageId": "dotnet-interactive.fsharp"
    }
   },
   "source": [
    "## Question #2: Find a substring\n",
    "\n",
    "(8 points)"
   ]
  },
  {
   "cell_type": "markdown",
   "metadata": {},
   "source": [
    "You are given a dictionary of the US states and their capitals. The keys in the dictionary are states and the values are capital names.\n",
    "\n",
    "Write a code to return a **list of all capitals** that contain the name of a state in their name as a substring.\n",
    "\n",
    "**HINT:** For example, `Indianapolis` as a capital name and `Indiana` as a state name is one of the key/value pairs that your code would find. Your code should add `Indianapolis` to the list. After you found all capitals and added them to the list, print out the list."
   ]
  },
  {
   "cell_type": "code",
   "execution_count": null,
   "metadata": {
    "dotnet_interactive": {
     "language": "fsharp"
    },
    "vscode": {
     "languageId": "dotnet-interactive.fsharp"
    }
   },
   "outputs": [
    {
     "data": {
      "text/html": [
       "<table><thead><tr><th><i>key</i></th><th>value</th></tr></thead><tbody><tr><td>Alabama</td><td>Montgomery</td></tr><tr><td>Alaska</td><td>Juneau</td></tr><tr><td>Arizona</td><td>Phoenix</td></tr><tr><td>Arkansas</td><td>Little Rock</td></tr><tr><td>California</td><td>Sacramento</td></tr><tr><td>Colorado</td><td>Denver</td></tr><tr><td>Connecticut</td><td>Hartford</td></tr><tr><td>Delaware</td><td>Dover</td></tr><tr><td>Florida</td><td>Tallahassee</td></tr><tr><td>Georgia</td><td>Atlanta</td></tr><tr><td>Hawaii</td><td>Honolulu</td></tr><tr><td>Idaho</td><td>Boise</td></tr><tr><td>Illinios</td><td>Springfield</td></tr><tr><td>Indiana</td><td>Indianapolis</td></tr><tr><td>Iowa</td><td>Des Monies</td></tr><tr><td>Kansas</td><td>Topeka</td></tr><tr><td>Kentucky</td><td>Frankfort</td></tr><tr><td>Louisiana</td><td>Baton Rouge</td></tr><tr><td>Maine</td><td>Augusta</td></tr><tr><td>Maryland</td><td>Annapolis</td></tr><tr><td colspan=\"2\"><i>... (more)</i></td></tr></tbody></table>"
      ]
     },
     "metadata": {},
     "output_type": "display_data"
    }
   ],
   "source": [
    "// Run this cell to create a dictionary of states' capitals\n",
    "let capitals =\n",
    "    [\n",
    "        \"Alabama\", \"Montgomery\"\n",
    "        \"Alaska\", \"Juneau\"\n",
    "        \"Arizona\", \"Phoenix\"\n",
    "        \"Arkansas\", \"Little Rock\"\n",
    "        \"California\", \"Sacramento\"\n",
    "        \"Colorado\", \"Denver\"\n",
    "        \"Connecticut\", \"Hartford\"\n",
    "        \"Delaware\", \"Dover\"\n",
    "        \"Florida\", \"Tallahassee\"\n",
    "        \"Georgia\", \"Atlanta\"\n",
    "        \"Hawaii\", \"Honolulu\"\n",
    "        \"Idaho\", \"Boise\"\n",
    "        \"Illinios\", \"Springfield\"\n",
    "        \"Indiana\", \"Indianapolis\"\n",
    "        \"Iowa\", \"Des Monies\"\n",
    "        \"Kansas\", \"Topeka\"\n",
    "        \"Kentucky\", \"Frankfort\"\n",
    "        \"Louisiana\", \"Baton Rouge\"\n",
    "        \"Maine\", \"Augusta\"\n",
    "        \"Maryland\", \"Annapolis\"\n",
    "        \"Massachusetts\", \"Boston\"\n",
    "        \"Michigan\", \"Lansing\"\n",
    "        \"Minnesota\", \"St. Paul\"\n",
    "        \"Mississippi\", \"Jackson\"\n",
    "        \"Missouri\", \"Jefferson City\"\n",
    "        \"Montana\", \"Helena\"\n",
    "        \"Nebraska\", \"Lincoln\"\n",
    "        \"Neveda\", \"Carson City\"\n",
    "        \"New Hampshire\", \"Concord\"\n",
    "        \"New Jersey\", \"Trenton\"\n",
    "        \"New Mexico\", \"Santa Fe\"\n",
    "        \"New York\", \"Albany\"\n",
    "        \"North Carolina\", \"Raleigh\"\n",
    "        \"North Dakota\", \"Bismarck\"\n",
    "        \"Ohio\", \"Columbus\"\n",
    "        \"Oklahoma\", \"Oklahoma City\"\n",
    "        \"Oregon\", \"Salem\"\n",
    "        \"Pennsylvania\", \"Harrisburg\"\n",
    "        \"Rhoda Island\", \"Providence\"\n",
    "        \"South Carolina\", \"Columbia\"\n",
    "        \"South Dakota\", \"Pierre\"\n",
    "        \"Tennessee\", \"Nashville\"\n",
    "        \"Texas\", \"Austin\"\n",
    "        \"Utah\", \"Salt Lake City\"\n",
    "        \"Vermont\", \"Montpelier\"\n",
    "        \"Virginia\", \"Richmond\"\n",
    "        \"Washington\", \"Olympia\"\n",
    "        \"West Virginia\", \"Charleston\"\n",
    "        \"Wisconsin\", \"Madison\"\n",
    "        \"Wyoming\", \"Cheyenn\"\n",
    "    ]\n",
    "    |> Map.ofList\n",
    "capitals"
   ]
  },
  {
   "cell_type": "code",
   "execution_count": null,
   "metadata": {
    "dotnet_interactive": {
     "language": "fsharp"
    },
    "vscode": {
     "languageId": "dotnet-interactive.fsharp"
    }
   },
   "outputs": [
    {
     "name": "stdout",
     "output_type": "stream",
     "text": [
      "Indiana\r\n",
      "Oklahoma\r\n"
     ]
    }
   ],
   "source": [
    "capitals\n",
    "|> Map.iter (fun k v -> if v.Contains(k) then printfn $\"%s{k}\")"
   ]
  },
  {
   "cell_type": "markdown",
   "metadata": {},
   "source": [
    "## Question #3: Is a data point within a rectangle?\n",
    "\n",
    "(8 points)"
   ]
  },
  {
   "cell_type": "markdown",
   "metadata": {},
   "source": [
    "Write a function `isIn()` which returns **boolean `True`** if a point is within a rectangle specified by two sets of coordinates and **boolean `False`** if the point is outside the rectangle. The function should accept three parameters:\n",
    "- the first parameter is a set of coordinates which defines one of the corners of the rectangle, \n",
    "- the second parameter is also a set of coordinates that defines the second corner,\n",
    "- the third set of coordinates defines a single point which is being tested.\n",
    "\n",
    "For example, \n",
    "- `isIn((1,2), (3,4), (1.5, 3.2))` should return `True`, \n",
    "- `isIn((4,3.5), (2,1), (3, 2))` should return `True`, \n",
    "- `isIn((-1,0), (5,5), (6,0))` should return `False`,\n",
    "- `isIn((4,1), (2,4), (2.5,4.5))` should return `False`.\n",
    "\n",
    "Test your function with at least 2 different sets of data points in addition to the examples above.\n",
    "\n",
    "**NOTES:** \n",
    "1. If the point being tested is on the side of the rectangle, consider it to be within the rectangle. For example, if the rectangle is defined as `(1,2), (3,4)` and the point is `(2,2)`, the function should return `True`.\n",
    "2. In this assignment, we assume that the edges of the rectangle are parallel to coordinate axes.\n",
    "3. We also assume that the first parameter does not always represent the left corner of the rectangle and the second parameter is not always the right corner. The function should work correctly either way. Please note the second test condition above where the first parameter, `(4,3.5)`, represents the top-right corner and the second parameter, `(2,1)`, represents left-bottom corner. "
   ]
  },
  {
   "cell_type": "code",
   "execution_count": null,
   "metadata": {
    "dotnet_interactive": {
     "language": "fsharp"
    },
    "vscode": {
     "languageId": "dotnet-interactive.fsharp"
    }
   },
   "outputs": [],
   "source": [
    "let isIn (firstCornerX, firstCornerY) (secondCornerX, secondCornerY) (pointX, pointY) =\n",
    "    let maxV a b = if a > b then a else b\n",
    "    let minV a b = if a < b then a else b\n",
    "\n",
    "    let maxX = maxV firstCornerX secondCornerX\n",
    "    let minX = minV firstCornerX secondCornerX\n",
    "    let maxY = maxV firstCornerY secondCornerY\n",
    "    let minY = minV firstCornerY secondCornerY\n",
    "\n",
    "    pointX >= minX\n",
    "    && pointY >= minY\n",
    "    && pointX <= maxX\n",
    "    && pointY <= maxY"
   ]
  },
  {
   "cell_type": "code",
   "execution_count": null,
   "metadata": {
    "dotnet_interactive": {
     "language": "fsharp"
    },
    "vscode": {
     "languageId": "dotnet-interactive.fsharp"
    }
   },
   "outputs": [
    {
     "data": {
      "text/html": [
       "<div class=\"dni-plaintext\">True</div>"
      ]
     },
     "metadata": {},
     "output_type": "display_data"
    }
   ],
   "source": [
    "isIn (1.,2.) (3.,4.) (1.5, 3.2)"
   ]
  },
  {
   "cell_type": "code",
   "execution_count": null,
   "metadata": {
    "dotnet_interactive": {
     "language": "fsharp"
    },
    "vscode": {
     "languageId": "dotnet-interactive.fsharp"
    }
   },
   "outputs": [
    {
     "data": {
      "text/html": [
       "<div class=\"dni-plaintext\">True</div>"
      ]
     },
     "metadata": {},
     "output_type": "display_data"
    }
   ],
   "source": [
    "isIn (4.,3.5) (2.,1.) (3., 2.)"
   ]
  },
  {
   "cell_type": "code",
   "execution_count": null,
   "metadata": {
    "dotnet_interactive": {
     "language": "fsharp"
    },
    "vscode": {
     "languageId": "dotnet-interactive.fsharp"
    }
   },
   "outputs": [
    {
     "data": {
      "text/html": [
       "<div class=\"dni-plaintext\">False</div>"
      ]
     },
     "metadata": {},
     "output_type": "display_data"
    }
   ],
   "source": [
    "isIn (-1.,0.) (5.,5.) (6.,0.)"
   ]
  },
  {
   "cell_type": "code",
   "execution_count": null,
   "metadata": {
    "dotnet_interactive": {
     "language": "fsharp"
    },
    "vscode": {
     "languageId": "dotnet-interactive.fsharp"
    }
   },
   "outputs": [
    {
     "data": {
      "text/html": [
       "<div class=\"dni-plaintext\">False</div>"
      ]
     },
     "metadata": {},
     "output_type": "display_data"
    }
   ],
   "source": [
    "isIn (4.,1.) (2.,4.) (2.5, 4.5)"
   ]
  }
 ],
 "metadata": {
  "kernelspec": {
   "display_name": ".NET (F#)",
   "language": "F#",
   "name": ".net-fsharp"
  },
  "language_info": {
   "name": "F#"
  }
 },
 "nbformat": 4,
 "nbformat_minor": 2
}
