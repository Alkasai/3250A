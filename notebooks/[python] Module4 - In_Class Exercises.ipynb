{
 "cells": [
  {
   "cell_type": "code",
   "execution_count": 1,
   "metadata": {},
   "outputs": [],
   "source": [
    "import pandas as pd"
   ]
  },
  {
   "cell_type": "code",
   "execution_count": 2,
   "metadata": {},
   "outputs": [],
   "source": [
    "customers = pd.read_csv('customers.csv')\n",
    "transactions = pd.read_csv('transactions.csv')"
   ]
  },
  {
   "cell_type": "code",
   "execution_count": 3,
   "metadata": {},
   "outputs": [
    {
     "data": {
      "text/html": [
       "<div>\n",
       "<style scoped>\n",
       "    .dataframe tbody tr th:only-of-type {\n",
       "        vertical-align: middle;\n",
       "    }\n",
       "\n",
       "    .dataframe tbody tr th {\n",
       "        vertical-align: top;\n",
       "    }\n",
       "\n",
       "    .dataframe thead th {\n",
       "        text-align: right;\n",
       "    }\n",
       "</style>\n",
       "<table border=\"1\" class=\"dataframe\">\n",
       "  <thead>\n",
       "    <tr style=\"text-align: right;\">\n",
       "      <th></th>\n",
       "      <th>id</th>\n",
       "      <th>cust_name</th>\n",
       "      <th>num_products</th>\n",
       "      <th>province</th>\n",
       "      <th>len_relationship</th>\n",
       "      <th>cust_category</th>\n",
       "    </tr>\n",
       "  </thead>\n",
       "  <tbody>\n",
       "    <tr>\n",
       "      <th>0</th>\n",
       "      <td>1001</td>\n",
       "      <td>Johnny Awesome</td>\n",
       "      <td>3</td>\n",
       "      <td>ON</td>\n",
       "      <td>1</td>\n",
       "      <td>wealth</td>\n",
       "    </tr>\n",
       "    <tr>\n",
       "      <th>1</th>\n",
       "      <td>1002</td>\n",
       "      <td>Bob Marley</td>\n",
       "      <td>4</td>\n",
       "      <td>ON</td>\n",
       "      <td>1</td>\n",
       "      <td>personal_banking</td>\n",
       "    </tr>\n",
       "    <tr>\n",
       "      <th>2</th>\n",
       "      <td>1004</td>\n",
       "      <td>Taylor Swift</td>\n",
       "      <td>2</td>\n",
       "      <td>AB</td>\n",
       "      <td>2</td>\n",
       "      <td>hnw</td>\n",
       "    </tr>\n",
       "    <tr>\n",
       "      <th>3</th>\n",
       "      <td>1101</td>\n",
       "      <td>James Dean</td>\n",
       "      <td>3</td>\n",
       "      <td>BC</td>\n",
       "      <td>3</td>\n",
       "      <td>wealth</td>\n",
       "    </tr>\n",
       "    <tr>\n",
       "      <th>4</th>\n",
       "      <td>1006</td>\n",
       "      <td>Stephen Smith</td>\n",
       "      <td>5</td>\n",
       "      <td>ON</td>\n",
       "      <td>4</td>\n",
       "      <td>hnw</td>\n",
       "    </tr>\n",
       "  </tbody>\n",
       "</table>\n",
       "</div>"
      ],
      "text/plain": [
       "     id       cust_name  num_products province  len_relationship  \\\n",
       "0  1001  Johnny Awesome             3       ON                 1   \n",
       "1  1002      Bob Marley             4       ON                 1   \n",
       "2  1004    Taylor Swift             2       AB                 2   \n",
       "3  1101      James Dean             3       BC                 3   \n",
       "4  1006   Stephen Smith             5       ON                 4   \n",
       "\n",
       "      cust_category  \n",
       "0            wealth  \n",
       "1  personal_banking  \n",
       "2               hnw  \n",
       "3            wealth  \n",
       "4               hnw  "
      ]
     },
     "execution_count": 3,
     "metadata": {},
     "output_type": "execute_result"
    }
   ],
   "source": [
    "customers.head()"
   ]
  },
  {
   "cell_type": "code",
   "execution_count": 4,
   "metadata": {},
   "outputs": [
    {
     "data": {
      "text/html": [
       "<div>\n",
       "<style scoped>\n",
       "    .dataframe tbody tr th:only-of-type {\n",
       "        vertical-align: middle;\n",
       "    }\n",
       "\n",
       "    .dataframe tbody tr th {\n",
       "        vertical-align: top;\n",
       "    }\n",
       "\n",
       "    .dataframe thead th {\n",
       "        text-align: right;\n",
       "    }\n",
       "</style>\n",
       "<table border=\"1\" class=\"dataframe\">\n",
       "  <thead>\n",
       "    <tr style=\"text-align: right;\">\n",
       "      <th></th>\n",
       "      <th>id</th>\n",
       "      <th>customer_id</th>\n",
       "      <th>txn_type</th>\n",
       "      <th>txn_total</th>\n",
       "    </tr>\n",
       "  </thead>\n",
       "  <tbody>\n",
       "    <tr>\n",
       "      <th>0</th>\n",
       "      <td>1</td>\n",
       "      <td>1001</td>\n",
       "      <td>Debit</td>\n",
       "      <td>165.78</td>\n",
       "    </tr>\n",
       "    <tr>\n",
       "      <th>1</th>\n",
       "      <td>2</td>\n",
       "      <td>1001</td>\n",
       "      <td>Credit</td>\n",
       "      <td>42.10</td>\n",
       "    </tr>\n",
       "    <tr>\n",
       "      <th>2</th>\n",
       "      <td>4</td>\n",
       "      <td>1001</td>\n",
       "      <td>Credit</td>\n",
       "      <td>103.03</td>\n",
       "    </tr>\n",
       "    <tr>\n",
       "      <th>3</th>\n",
       "      <td>5</td>\n",
       "      <td>1001</td>\n",
       "      <td>Credit</td>\n",
       "      <td>56.60</td>\n",
       "    </tr>\n",
       "    <tr>\n",
       "      <th>4</th>\n",
       "      <td>6</td>\n",
       "      <td>1002</td>\n",
       "      <td>Debit</td>\n",
       "      <td>214.34</td>\n",
       "    </tr>\n",
       "  </tbody>\n",
       "</table>\n",
       "</div>"
      ],
      "text/plain": [
       "   id  customer_id txn_type  txn_total\n",
       "0   1         1001    Debit     165.78\n",
       "1   2         1001   Credit      42.10\n",
       "2   4         1001   Credit     103.03\n",
       "3   5         1001   Credit      56.60\n",
       "4   6         1002    Debit     214.34"
      ]
     },
     "execution_count": 4,
     "metadata": {},
     "output_type": "execute_result"
    }
   ],
   "source": [
    "transactions.head()"
   ]
  },
  {
   "cell_type": "code",
   "execution_count": 5,
   "metadata": {},
   "outputs": [],
   "source": [
    "customers = customers.rename(columns={'id':'customer_id'}).set_index('customer_id')"
   ]
  },
  {
   "cell_type": "code",
   "execution_count": 6,
   "metadata": {},
   "outputs": [],
   "source": [
    "transactions = transactions.set_index('customer_id').rename(columns={'id':'txn_id'})"
   ]
  },
  {
   "cell_type": "code",
   "execution_count": 7,
   "metadata": {},
   "outputs": [
    {
     "data": {
      "text/html": [
       "<div>\n",
       "<style scoped>\n",
       "    .dataframe tbody tr th:only-of-type {\n",
       "        vertical-align: middle;\n",
       "    }\n",
       "\n",
       "    .dataframe tbody tr th {\n",
       "        vertical-align: top;\n",
       "    }\n",
       "\n",
       "    .dataframe thead th {\n",
       "        text-align: right;\n",
       "    }\n",
       "</style>\n",
       "<table border=\"1\" class=\"dataframe\">\n",
       "  <thead>\n",
       "    <tr style=\"text-align: right;\">\n",
       "      <th></th>\n",
       "      <th>cust_name</th>\n",
       "      <th>num_products</th>\n",
       "      <th>province</th>\n",
       "      <th>len_relationship</th>\n",
       "      <th>cust_category</th>\n",
       "    </tr>\n",
       "    <tr>\n",
       "      <th>customer_id</th>\n",
       "      <th></th>\n",
       "      <th></th>\n",
       "      <th></th>\n",
       "      <th></th>\n",
       "      <th></th>\n",
       "    </tr>\n",
       "  </thead>\n",
       "  <tbody>\n",
       "    <tr>\n",
       "      <th>1001</th>\n",
       "      <td>Johnny Awesome</td>\n",
       "      <td>3</td>\n",
       "      <td>ON</td>\n",
       "      <td>1</td>\n",
       "      <td>wealth</td>\n",
       "    </tr>\n",
       "    <tr>\n",
       "      <th>1002</th>\n",
       "      <td>Bob Marley</td>\n",
       "      <td>4</td>\n",
       "      <td>ON</td>\n",
       "      <td>1</td>\n",
       "      <td>personal_banking</td>\n",
       "    </tr>\n",
       "    <tr>\n",
       "      <th>1004</th>\n",
       "      <td>Taylor Swift</td>\n",
       "      <td>2</td>\n",
       "      <td>AB</td>\n",
       "      <td>2</td>\n",
       "      <td>hnw</td>\n",
       "    </tr>\n",
       "    <tr>\n",
       "      <th>1101</th>\n",
       "      <td>James Dean</td>\n",
       "      <td>3</td>\n",
       "      <td>BC</td>\n",
       "      <td>3</td>\n",
       "      <td>wealth</td>\n",
       "    </tr>\n",
       "    <tr>\n",
       "      <th>1006</th>\n",
       "      <td>Stephen Smith</td>\n",
       "      <td>5</td>\n",
       "      <td>ON</td>\n",
       "      <td>4</td>\n",
       "      <td>hnw</td>\n",
       "    </tr>\n",
       "  </tbody>\n",
       "</table>\n",
       "</div>"
      ],
      "text/plain": [
       "                  cust_name  num_products province  len_relationship  \\\n",
       "customer_id                                                            \n",
       "1001         Johnny Awesome             3       ON                 1   \n",
       "1002             Bob Marley             4       ON                 1   \n",
       "1004           Taylor Swift             2       AB                 2   \n",
       "1101             James Dean             3       BC                 3   \n",
       "1006          Stephen Smith             5       ON                 4   \n",
       "\n",
       "                cust_category  \n",
       "customer_id                    \n",
       "1001                   wealth  \n",
       "1002         personal_banking  \n",
       "1004                      hnw  \n",
       "1101                   wealth  \n",
       "1006                      hnw  "
      ]
     },
     "execution_count": 7,
     "metadata": {},
     "output_type": "execute_result"
    }
   ],
   "source": [
    "customers.head()"
   ]
  },
  {
   "cell_type": "code",
   "execution_count": 8,
   "metadata": {},
   "outputs": [
    {
     "data": {
      "text/html": [
       "<div>\n",
       "<style scoped>\n",
       "    .dataframe tbody tr th:only-of-type {\n",
       "        vertical-align: middle;\n",
       "    }\n",
       "\n",
       "    .dataframe tbody tr th {\n",
       "        vertical-align: top;\n",
       "    }\n",
       "\n",
       "    .dataframe thead th {\n",
       "        text-align: right;\n",
       "    }\n",
       "</style>\n",
       "<table border=\"1\" class=\"dataframe\">\n",
       "  <thead>\n",
       "    <tr style=\"text-align: right;\">\n",
       "      <th></th>\n",
       "      <th>txn_id</th>\n",
       "      <th>txn_type</th>\n",
       "      <th>txn_total</th>\n",
       "    </tr>\n",
       "    <tr>\n",
       "      <th>customer_id</th>\n",
       "      <th></th>\n",
       "      <th></th>\n",
       "      <th></th>\n",
       "    </tr>\n",
       "  </thead>\n",
       "  <tbody>\n",
       "    <tr>\n",
       "      <th>1001</th>\n",
       "      <td>1</td>\n",
       "      <td>Debit</td>\n",
       "      <td>165.78</td>\n",
       "    </tr>\n",
       "    <tr>\n",
       "      <th>1001</th>\n",
       "      <td>2</td>\n",
       "      <td>Credit</td>\n",
       "      <td>42.10</td>\n",
       "    </tr>\n",
       "    <tr>\n",
       "      <th>1001</th>\n",
       "      <td>4</td>\n",
       "      <td>Credit</td>\n",
       "      <td>103.03</td>\n",
       "    </tr>\n",
       "    <tr>\n",
       "      <th>1001</th>\n",
       "      <td>5</td>\n",
       "      <td>Credit</td>\n",
       "      <td>56.60</td>\n",
       "    </tr>\n",
       "    <tr>\n",
       "      <th>1002</th>\n",
       "      <td>6</td>\n",
       "      <td>Debit</td>\n",
       "      <td>214.34</td>\n",
       "    </tr>\n",
       "  </tbody>\n",
       "</table>\n",
       "</div>"
      ],
      "text/plain": [
       "             txn_id txn_type  txn_total\n",
       "customer_id                            \n",
       "1001              1    Debit     165.78\n",
       "1001              2   Credit      42.10\n",
       "1001              4   Credit     103.03\n",
       "1001              5   Credit      56.60\n",
       "1002              6    Debit     214.34"
      ]
     },
     "execution_count": 8,
     "metadata": {},
     "output_type": "execute_result"
    }
   ],
   "source": [
    "transactions.head()"
   ]
  },
  {
   "cell_type": "markdown",
   "metadata": {},
   "source": [
    "Write a function to display a Series object with only the names of Wealth customers."
   ]
  },
  {
   "cell_type": "code",
   "execution_count": 9,
   "metadata": {},
   "outputs": [
    {
     "data": {
      "text/plain": [
       "cust_name\n",
       "Johnny Awesome    wealth\n",
       "James Dean        wealth\n",
       "Maria Alva        wealth\n",
       "Steven Prime      wealth\n",
       "Name: cust_category, dtype: object"
      ]
     },
     "execution_count": 9,
     "metadata": {},
     "output_type": "execute_result"
    }
   ],
   "source": [
    "customers[customers['cust_category'] == 'wealth']\\\n",
    "    .set_index('cust_name')\\\n",
    "        ['cust_category']"
   ]
  },
  {
   "cell_type": "markdown",
   "metadata": {},
   "source": [
    "Write a function to identify all PersonalBanking customers with more than 3 products."
   ]
  },
  {
   "cell_type": "code",
   "execution_count": 10,
   "metadata": {},
   "outputs": [
    {
     "data": {
      "text/html": [
       "<div>\n",
       "<style scoped>\n",
       "    .dataframe tbody tr th:only-of-type {\n",
       "        vertical-align: middle;\n",
       "    }\n",
       "\n",
       "    .dataframe tbody tr th {\n",
       "        vertical-align: top;\n",
       "    }\n",
       "\n",
       "    .dataframe thead th {\n",
       "        text-align: right;\n",
       "    }\n",
       "</style>\n",
       "<table border=\"1\" class=\"dataframe\">\n",
       "  <thead>\n",
       "    <tr style=\"text-align: right;\">\n",
       "      <th></th>\n",
       "      <th>cust_name</th>\n",
       "      <th>num_products</th>\n",
       "      <th>province</th>\n",
       "      <th>len_relationship</th>\n",
       "      <th>cust_category</th>\n",
       "    </tr>\n",
       "    <tr>\n",
       "      <th>customer_id</th>\n",
       "      <th></th>\n",
       "      <th></th>\n",
       "      <th></th>\n",
       "      <th></th>\n",
       "      <th></th>\n",
       "    </tr>\n",
       "  </thead>\n",
       "  <tbody>\n",
       "    <tr>\n",
       "      <th>1002</th>\n",
       "      <td>Bob Marley</td>\n",
       "      <td>4</td>\n",
       "      <td>ON</td>\n",
       "      <td>1</td>\n",
       "      <td>personal_banking</td>\n",
       "    </tr>\n",
       "    <tr>\n",
       "      <th>1354</th>\n",
       "      <td>Jessica Fast</td>\n",
       "      <td>4</td>\n",
       "      <td>BC</td>\n",
       "      <td>5</td>\n",
       "      <td>personal_banking</td>\n",
       "    </tr>\n",
       "  </tbody>\n",
       "</table>\n",
       "</div>"
      ],
      "text/plain": [
       "                cust_name  num_products province  len_relationship  \\\n",
       "customer_id                                                          \n",
       "1002           Bob Marley             4       ON                 1   \n",
       "1354         Jessica Fast             4       BC                 5   \n",
       "\n",
       "                cust_category  \n",
       "customer_id                    \n",
       "1002         personal_banking  \n",
       "1354         personal_banking  "
      ]
     },
     "execution_count": 10,
     "metadata": {},
     "output_type": "execute_result"
    }
   ],
   "source": [
    "customers[(customers['cust_category'] == 'personal_banking') & (customers['num_products'] > 3)]"
   ]
  },
  {
   "cell_type": "markdown",
   "metadata": {},
   "source": [
    "What is the average spend of customers in Alberta?"
   ]
  },
  {
   "cell_type": "code",
   "execution_count": 11,
   "metadata": {},
   "outputs": [],
   "source": [
    "joined = customers.join(transactions)"
   ]
  },
  {
   "cell_type": "code",
   "execution_count": 12,
   "metadata": {},
   "outputs": [
    {
     "data": {
      "text/html": [
       "<div>\n",
       "<style scoped>\n",
       "    .dataframe tbody tr th:only-of-type {\n",
       "        vertical-align: middle;\n",
       "    }\n",
       "\n",
       "    .dataframe tbody tr th {\n",
       "        vertical-align: top;\n",
       "    }\n",
       "\n",
       "    .dataframe thead th {\n",
       "        text-align: right;\n",
       "    }\n",
       "</style>\n",
       "<table border=\"1\" class=\"dataframe\">\n",
       "  <thead>\n",
       "    <tr style=\"text-align: right;\">\n",
       "      <th></th>\n",
       "      <th>cust_name</th>\n",
       "      <th>num_products</th>\n",
       "      <th>province</th>\n",
       "      <th>len_relationship</th>\n",
       "      <th>cust_category</th>\n",
       "      <th>txn_id</th>\n",
       "      <th>txn_type</th>\n",
       "      <th>txn_total</th>\n",
       "    </tr>\n",
       "    <tr>\n",
       "      <th>customer_id</th>\n",
       "      <th></th>\n",
       "      <th></th>\n",
       "      <th></th>\n",
       "      <th></th>\n",
       "      <th></th>\n",
       "      <th></th>\n",
       "      <th></th>\n",
       "      <th></th>\n",
       "    </tr>\n",
       "  </thead>\n",
       "  <tbody>\n",
       "    <tr>\n",
       "      <th>1001</th>\n",
       "      <td>Johnny Awesome</td>\n",
       "      <td>3</td>\n",
       "      <td>ON</td>\n",
       "      <td>1</td>\n",
       "      <td>wealth</td>\n",
       "      <td>1.0</td>\n",
       "      <td>Debit</td>\n",
       "      <td>165.78</td>\n",
       "    </tr>\n",
       "    <tr>\n",
       "      <th>1001</th>\n",
       "      <td>Johnny Awesome</td>\n",
       "      <td>3</td>\n",
       "      <td>ON</td>\n",
       "      <td>1</td>\n",
       "      <td>wealth</td>\n",
       "      <td>2.0</td>\n",
       "      <td>Credit</td>\n",
       "      <td>42.10</td>\n",
       "    </tr>\n",
       "    <tr>\n",
       "      <th>1001</th>\n",
       "      <td>Johnny Awesome</td>\n",
       "      <td>3</td>\n",
       "      <td>ON</td>\n",
       "      <td>1</td>\n",
       "      <td>wealth</td>\n",
       "      <td>4.0</td>\n",
       "      <td>Credit</td>\n",
       "      <td>103.03</td>\n",
       "    </tr>\n",
       "    <tr>\n",
       "      <th>1001</th>\n",
       "      <td>Johnny Awesome</td>\n",
       "      <td>3</td>\n",
       "      <td>ON</td>\n",
       "      <td>1</td>\n",
       "      <td>wealth</td>\n",
       "      <td>5.0</td>\n",
       "      <td>Credit</td>\n",
       "      <td>56.60</td>\n",
       "    </tr>\n",
       "    <tr>\n",
       "      <th>1002</th>\n",
       "      <td>Bob Marley</td>\n",
       "      <td>4</td>\n",
       "      <td>ON</td>\n",
       "      <td>1</td>\n",
       "      <td>personal_banking</td>\n",
       "      <td>6.0</td>\n",
       "      <td>Debit</td>\n",
       "      <td>214.34</td>\n",
       "    </tr>\n",
       "  </tbody>\n",
       "</table>\n",
       "</div>"
      ],
      "text/plain": [
       "                  cust_name  num_products province  len_relationship  \\\n",
       "customer_id                                                            \n",
       "1001         Johnny Awesome             3       ON                 1   \n",
       "1001         Johnny Awesome             3       ON                 1   \n",
       "1001         Johnny Awesome             3       ON                 1   \n",
       "1001         Johnny Awesome             3       ON                 1   \n",
       "1002             Bob Marley             4       ON                 1   \n",
       "\n",
       "                cust_category  txn_id txn_type  txn_total  \n",
       "customer_id                                                \n",
       "1001                   wealth     1.0    Debit     165.78  \n",
       "1001                   wealth     2.0   Credit      42.10  \n",
       "1001                   wealth     4.0   Credit     103.03  \n",
       "1001                   wealth     5.0   Credit      56.60  \n",
       "1002         personal_banking     6.0    Debit     214.34  "
      ]
     },
     "execution_count": 12,
     "metadata": {},
     "output_type": "execute_result"
    }
   ],
   "source": [
    "joined.head()"
   ]
  },
  {
   "cell_type": "code",
   "execution_count": 13,
   "metadata": {},
   "outputs": [
    {
     "data": {
      "text/plain": [
       "province\n",
       "AB    208.976364\n",
       "Name: txn_total, dtype: float64"
      ]
     },
     "execution_count": 13,
     "metadata": {},
     "output_type": "execute_result"
    }
   ],
   "source": [
    "joined[joined[\"province\"]==\"AB\"].groupby(\"province\")[\"txn_total\"].mean()"
   ]
  },
  {
   "cell_type": "markdown",
   "metadata": {},
   "source": [
    "How many personal banking customers are there in each province?"
   ]
  },
  {
   "cell_type": "code",
   "execution_count": 14,
   "metadata": {},
   "outputs": [
    {
     "data": {
      "text/plain": [
       "province\n",
       "AB    3\n",
       "BC    6\n",
       "ON    6\n",
       "Name: num_of_cust, dtype: int64"
      ]
     },
     "execution_count": 14,
     "metadata": {},
     "output_type": "execute_result"
    }
   ],
   "source": [
    "joined[joined[\"cust_category\"]==\"personal_banking\"]\\\n",
    "    [[\"province\",\"cust_category\"]]\\\n",
    "        .rename(columns={\"cust_category\":\"num_of_cust\"})\\\n",
    "            .groupby(\"province\")[\"num_of_cust\"]\\\n",
    "                .count()"
   ]
  },
  {
   "cell_type": "markdown",
   "metadata": {},
   "source": [
    "Who are the top 3 customers with the highest spend?"
   ]
  },
  {
   "cell_type": "code",
   "execution_count": 15,
   "metadata": {},
   "outputs": [
    {
     "data": {
      "text/html": [
       "<div>\n",
       "<style scoped>\n",
       "    .dataframe tbody tr th:only-of-type {\n",
       "        vertical-align: middle;\n",
       "    }\n",
       "\n",
       "    .dataframe tbody tr th {\n",
       "        vertical-align: top;\n",
       "    }\n",
       "\n",
       "    .dataframe thead th {\n",
       "        text-align: right;\n",
       "    }\n",
       "</style>\n",
       "<table border=\"1\" class=\"dataframe\">\n",
       "  <thead>\n",
       "    <tr style=\"text-align: right;\">\n",
       "      <th></th>\n",
       "      <th>cust_name</th>\n",
       "      <th>num_products</th>\n",
       "      <th>province</th>\n",
       "      <th>len_relationship</th>\n",
       "      <th>cust_category</th>\n",
       "      <th>txn_id</th>\n",
       "      <th>txn_type</th>\n",
       "      <th>txn_total</th>\n",
       "    </tr>\n",
       "    <tr>\n",
       "      <th>customer_id</th>\n",
       "      <th></th>\n",
       "      <th></th>\n",
       "      <th></th>\n",
       "      <th></th>\n",
       "      <th></th>\n",
       "      <th></th>\n",
       "      <th></th>\n",
       "      <th></th>\n",
       "    </tr>\n",
       "  </thead>\n",
       "  <tbody>\n",
       "    <tr>\n",
       "      <th>1001</th>\n",
       "      <td>Johnny Awesome</td>\n",
       "      <td>3</td>\n",
       "      <td>ON</td>\n",
       "      <td>1</td>\n",
       "      <td>wealth</td>\n",
       "      <td>1.0</td>\n",
       "      <td>Debit</td>\n",
       "      <td>165.78</td>\n",
       "    </tr>\n",
       "    <tr>\n",
       "      <th>1001</th>\n",
       "      <td>Johnny Awesome</td>\n",
       "      <td>3</td>\n",
       "      <td>ON</td>\n",
       "      <td>1</td>\n",
       "      <td>wealth</td>\n",
       "      <td>2.0</td>\n",
       "      <td>Credit</td>\n",
       "      <td>42.10</td>\n",
       "    </tr>\n",
       "    <tr>\n",
       "      <th>1001</th>\n",
       "      <td>Johnny Awesome</td>\n",
       "      <td>3</td>\n",
       "      <td>ON</td>\n",
       "      <td>1</td>\n",
       "      <td>wealth</td>\n",
       "      <td>4.0</td>\n",
       "      <td>Credit</td>\n",
       "      <td>103.03</td>\n",
       "    </tr>\n",
       "    <tr>\n",
       "      <th>1001</th>\n",
       "      <td>Johnny Awesome</td>\n",
       "      <td>3</td>\n",
       "      <td>ON</td>\n",
       "      <td>1</td>\n",
       "      <td>wealth</td>\n",
       "      <td>5.0</td>\n",
       "      <td>Credit</td>\n",
       "      <td>56.60</td>\n",
       "    </tr>\n",
       "    <tr>\n",
       "      <th>1002</th>\n",
       "      <td>Bob Marley</td>\n",
       "      <td>4</td>\n",
       "      <td>ON</td>\n",
       "      <td>1</td>\n",
       "      <td>personal_banking</td>\n",
       "      <td>6.0</td>\n",
       "      <td>Debit</td>\n",
       "      <td>214.34</td>\n",
       "    </tr>\n",
       "  </tbody>\n",
       "</table>\n",
       "</div>"
      ],
      "text/plain": [
       "                  cust_name  num_products province  len_relationship  \\\n",
       "customer_id                                                            \n",
       "1001         Johnny Awesome             3       ON                 1   \n",
       "1001         Johnny Awesome             3       ON                 1   \n",
       "1001         Johnny Awesome             3       ON                 1   \n",
       "1001         Johnny Awesome             3       ON                 1   \n",
       "1002             Bob Marley             4       ON                 1   \n",
       "\n",
       "                cust_category  txn_id txn_type  txn_total  \n",
       "customer_id                                                \n",
       "1001                   wealth     1.0    Debit     165.78  \n",
       "1001                   wealth     2.0   Credit      42.10  \n",
       "1001                   wealth     4.0   Credit     103.03  \n",
       "1001                   wealth     5.0   Credit      56.60  \n",
       "1002         personal_banking     6.0    Debit     214.34  "
      ]
     },
     "execution_count": 15,
     "metadata": {},
     "output_type": "execute_result"
    }
   ],
   "source": [
    "joined.head()"
   ]
  },
  {
   "cell_type": "code",
   "execution_count": 16,
   "metadata": {},
   "outputs": [
    {
     "data": {
      "text/html": [
       "<div>\n",
       "<style scoped>\n",
       "    .dataframe tbody tr th:only-of-type {\n",
       "        vertical-align: middle;\n",
       "    }\n",
       "\n",
       "    .dataframe tbody tr th {\n",
       "        vertical-align: top;\n",
       "    }\n",
       "\n",
       "    .dataframe thead th {\n",
       "        text-align: right;\n",
       "    }\n",
       "</style>\n",
       "<table border=\"1\" class=\"dataframe\">\n",
       "  <thead>\n",
       "    <tr style=\"text-align: right;\">\n",
       "      <th></th>\n",
       "      <th>txn_total</th>\n",
       "    </tr>\n",
       "    <tr>\n",
       "      <th>customer_id</th>\n",
       "      <th></th>\n",
       "    </tr>\n",
       "  </thead>\n",
       "  <tbody>\n",
       "    <tr>\n",
       "      <th>1354</th>\n",
       "      <td>909.87</td>\n",
       "    </tr>\n",
       "    <tr>\n",
       "      <th>1585</th>\n",
       "      <td>858.55</td>\n",
       "    </tr>\n",
       "    <tr>\n",
       "      <th>1285</th>\n",
       "      <td>811.40</td>\n",
       "    </tr>\n",
       "  </tbody>\n",
       "</table>\n",
       "</div>"
      ],
      "text/plain": [
       "             txn_total\n",
       "customer_id           \n",
       "1354            909.87\n",
       "1585            858.55\n",
       "1285            811.40"
      ]
     },
     "execution_count": 16,
     "metadata": {},
     "output_type": "execute_result"
    }
   ],
   "source": [
    "joined.groupby(\"customer_id\").agg({\"txn_total\": \"sum\"}).sort_values(\"txn_total\", ascending=False).head(3)"
   ]
  },
  {
   "cell_type": "markdown",
   "metadata": {},
   "source": [
    "Which customer has the highest single transaction?"
   ]
  },
  {
   "cell_type": "code",
   "execution_count": 17,
   "metadata": {},
   "outputs": [
    {
     "data": {
      "text/html": [
       "<div>\n",
       "<style scoped>\n",
       "    .dataframe tbody tr th:only-of-type {\n",
       "        vertical-align: middle;\n",
       "    }\n",
       "\n",
       "    .dataframe tbody tr th {\n",
       "        vertical-align: top;\n",
       "    }\n",
       "\n",
       "    .dataframe thead th {\n",
       "        text-align: right;\n",
       "    }\n",
       "</style>\n",
       "<table border=\"1\" class=\"dataframe\">\n",
       "  <thead>\n",
       "    <tr style=\"text-align: right;\">\n",
       "      <th></th>\n",
       "      <th>cust_name</th>\n",
       "      <th>num_products</th>\n",
       "      <th>province</th>\n",
       "      <th>len_relationship</th>\n",
       "      <th>cust_category</th>\n",
       "      <th>txn_id</th>\n",
       "      <th>txn_type</th>\n",
       "      <th>txn_total</th>\n",
       "    </tr>\n",
       "    <tr>\n",
       "      <th>customer_id</th>\n",
       "      <th></th>\n",
       "      <th></th>\n",
       "      <th></th>\n",
       "      <th></th>\n",
       "      <th></th>\n",
       "      <th></th>\n",
       "      <th></th>\n",
       "      <th></th>\n",
       "    </tr>\n",
       "  </thead>\n",
       "  <tbody>\n",
       "    <tr>\n",
       "      <th>1014</th>\n",
       "      <td>Delilah Avery</td>\n",
       "      <td>2</td>\n",
       "      <td>AB</td>\n",
       "      <td>3</td>\n",
       "      <td>personal_banking</td>\n",
       "      <td>20.0</td>\n",
       "      <td>Debit</td>\n",
       "      <td>449.39</td>\n",
       "    </tr>\n",
       "  </tbody>\n",
       "</table>\n",
       "</div>"
      ],
      "text/plain": [
       "                 cust_name  num_products province  len_relationship  \\\n",
       "customer_id                                                           \n",
       "1014         Delilah Avery             2       AB                 3   \n",
       "\n",
       "                cust_category  txn_id txn_type  txn_total  \n",
       "customer_id                                                \n",
       "1014         personal_banking    20.0    Debit     449.39  "
      ]
     },
     "execution_count": 17,
     "metadata": {},
     "output_type": "execute_result"
    }
   ],
   "source": [
    "joined.sort_values(\"txn_total\", ascending=False).head(1)"
   ]
  },
  {
   "cell_type": "markdown",
   "metadata": {},
   "source": [
    "What is the average spend by Province and Customer Category?"
   ]
  },
  {
   "cell_type": "code",
   "execution_count": 18,
   "metadata": {},
   "outputs": [
    {
     "data": {
      "text/html": [
       "<div>\n",
       "<style scoped>\n",
       "    .dataframe tbody tr th:only-of-type {\n",
       "        vertical-align: middle;\n",
       "    }\n",
       "\n",
       "    .dataframe tbody tr th {\n",
       "        vertical-align: top;\n",
       "    }\n",
       "\n",
       "    .dataframe thead tr th {\n",
       "        text-align: left;\n",
       "    }\n",
       "\n",
       "    .dataframe thead tr:last-of-type th {\n",
       "        text-align: right;\n",
       "    }\n",
       "</style>\n",
       "<table border=\"1\" class=\"dataframe\">\n",
       "  <thead>\n",
       "    <tr>\n",
       "      <th></th>\n",
       "      <th colspan=\"4\" halign=\"left\">txn_total</th>\n",
       "    </tr>\n",
       "    <tr>\n",
       "      <th>province</th>\n",
       "      <th>AB</th>\n",
       "      <th>BC</th>\n",
       "      <th>MB</th>\n",
       "      <th>ON</th>\n",
       "    </tr>\n",
       "    <tr>\n",
       "      <th>cust_category</th>\n",
       "      <th></th>\n",
       "      <th></th>\n",
       "      <th></th>\n",
       "      <th></th>\n",
       "    </tr>\n",
       "  </thead>\n",
       "  <tbody>\n",
       "    <tr>\n",
       "      <th>hnw</th>\n",
       "      <td>147.952000</td>\n",
       "      <td>NaN</td>\n",
       "      <td>199.73</td>\n",
       "      <td>225.890000</td>\n",
       "    </tr>\n",
       "    <tr>\n",
       "      <th>personal_banking</th>\n",
       "      <td>233.476667</td>\n",
       "      <td>285.26</td>\n",
       "      <td>NaN</td>\n",
       "      <td>172.300000</td>\n",
       "    </tr>\n",
       "    <tr>\n",
       "      <th>wealth</th>\n",
       "      <td>286.183333</td>\n",
       "      <td>NaN</td>\n",
       "      <td>NaN</td>\n",
       "      <td>168.415714</td>\n",
       "    </tr>\n",
       "  </tbody>\n",
       "</table>\n",
       "</div>"
      ],
      "text/plain": [
       "                   txn_total                            \n",
       "province                  AB      BC      MB          ON\n",
       "cust_category                                           \n",
       "hnw               147.952000     NaN  199.73  225.890000\n",
       "personal_banking  233.476667  285.26     NaN  172.300000\n",
       "wealth            286.183333     NaN     NaN  168.415714"
      ]
     },
     "execution_count": 18,
     "metadata": {},
     "output_type": "execute_result"
    }
   ],
   "source": [
    "joined.groupby([\"province\",\"cust_category\"]).agg({\"txn_total\": \"mean\"}).unstack(\"province\")"
   ]
  },
  {
   "cell_type": "markdown",
   "metadata": {},
   "source": [
    "What is the average spend by transaction type (e.g. credit, debit, cash)?"
   ]
  },
  {
   "cell_type": "code",
   "execution_count": 19,
   "metadata": {},
   "outputs": [
    {
     "data": {
      "text/html": [
       "<div>\n",
       "<style scoped>\n",
       "    .dataframe tbody tr th:only-of-type {\n",
       "        vertical-align: middle;\n",
       "    }\n",
       "\n",
       "    .dataframe tbody tr th {\n",
       "        vertical-align: top;\n",
       "    }\n",
       "\n",
       "    .dataframe thead th {\n",
       "        text-align: right;\n",
       "    }\n",
       "</style>\n",
       "<table border=\"1\" class=\"dataframe\">\n",
       "  <thead>\n",
       "    <tr style=\"text-align: right;\">\n",
       "      <th></th>\n",
       "      <th>txn_id</th>\n",
       "      <th>txn_type</th>\n",
       "      <th>txn_total</th>\n",
       "    </tr>\n",
       "    <tr>\n",
       "      <th>customer_id</th>\n",
       "      <th></th>\n",
       "      <th></th>\n",
       "      <th></th>\n",
       "    </tr>\n",
       "  </thead>\n",
       "  <tbody>\n",
       "    <tr>\n",
       "      <th>1001</th>\n",
       "      <td>1</td>\n",
       "      <td>Debit</td>\n",
       "      <td>165.78</td>\n",
       "    </tr>\n",
       "    <tr>\n",
       "      <th>1001</th>\n",
       "      <td>2</td>\n",
       "      <td>Credit</td>\n",
       "      <td>42.10</td>\n",
       "    </tr>\n",
       "    <tr>\n",
       "      <th>1001</th>\n",
       "      <td>4</td>\n",
       "      <td>Credit</td>\n",
       "      <td>103.03</td>\n",
       "    </tr>\n",
       "    <tr>\n",
       "      <th>1001</th>\n",
       "      <td>5</td>\n",
       "      <td>Credit</td>\n",
       "      <td>56.60</td>\n",
       "    </tr>\n",
       "    <tr>\n",
       "      <th>1002</th>\n",
       "      <td>6</td>\n",
       "      <td>Debit</td>\n",
       "      <td>214.34</td>\n",
       "    </tr>\n",
       "  </tbody>\n",
       "</table>\n",
       "</div>"
      ],
      "text/plain": [
       "             txn_id txn_type  txn_total\n",
       "customer_id                            \n",
       "1001              1    Debit     165.78\n",
       "1001              2   Credit      42.10\n",
       "1001              4   Credit     103.03\n",
       "1001              5   Credit      56.60\n",
       "1002              6    Debit     214.34"
      ]
     },
     "execution_count": 19,
     "metadata": {},
     "output_type": "execute_result"
    }
   ],
   "source": [
    "transactions.head()"
   ]
  },
  {
   "cell_type": "code",
   "execution_count": 20,
   "metadata": {},
   "outputs": [
    {
     "data": {
      "text/html": [
       "<div>\n",
       "<style scoped>\n",
       "    .dataframe tbody tr th:only-of-type {\n",
       "        vertical-align: middle;\n",
       "    }\n",
       "\n",
       "    .dataframe tbody tr th {\n",
       "        vertical-align: top;\n",
       "    }\n",
       "\n",
       "    .dataframe thead th {\n",
       "        text-align: right;\n",
       "    }\n",
       "</style>\n",
       "<table border=\"1\" class=\"dataframe\">\n",
       "  <thead>\n",
       "    <tr style=\"text-align: right;\">\n",
       "      <th></th>\n",
       "      <th>txn_total</th>\n",
       "    </tr>\n",
       "    <tr>\n",
       "      <th>txn_type</th>\n",
       "      <th></th>\n",
       "    </tr>\n",
       "  </thead>\n",
       "  <tbody>\n",
       "    <tr>\n",
       "      <th>Cash</th>\n",
       "      <td>182.262727</td>\n",
       "    </tr>\n",
       "    <tr>\n",
       "      <th>Credit</th>\n",
       "      <td>206.926667</td>\n",
       "    </tr>\n",
       "    <tr>\n",
       "      <th>Debit</th>\n",
       "      <td>227.204286</td>\n",
       "    </tr>\n",
       "  </tbody>\n",
       "</table>\n",
       "</div>"
      ],
      "text/plain": [
       "           txn_total\n",
       "txn_type            \n",
       "Cash      182.262727\n",
       "Credit    206.926667\n",
       "Debit     227.204286"
      ]
     },
     "execution_count": 20,
     "metadata": {},
     "output_type": "execute_result"
    }
   ],
   "source": [
    "transactions.groupby(\"txn_type\").agg({\"txn_total\": \"mean\"})"
   ]
  },
  {
   "cell_type": "markdown",
   "metadata": {},
   "source": [
    "Which transaction type is the most popular in each province?"
   ]
  },
  {
   "cell_type": "code",
   "execution_count": 21,
   "metadata": {},
   "outputs": [
    {
     "data": {
      "text/html": [
       "<div>\n",
       "<style scoped>\n",
       "    .dataframe tbody tr th:only-of-type {\n",
       "        vertical-align: middle;\n",
       "    }\n",
       "\n",
       "    .dataframe tbody tr th {\n",
       "        vertical-align: top;\n",
       "    }\n",
       "\n",
       "    .dataframe thead tr th {\n",
       "        text-align: left;\n",
       "    }\n",
       "\n",
       "    .dataframe thead tr:last-of-type th {\n",
       "        text-align: right;\n",
       "    }\n",
       "</style>\n",
       "<table border=\"1\" class=\"dataframe\">\n",
       "  <thead>\n",
       "    <tr>\n",
       "      <th></th>\n",
       "      <th colspan=\"3\" halign=\"left\">txn_type</th>\n",
       "    </tr>\n",
       "    <tr>\n",
       "      <th>txn_type</th>\n",
       "      <th>Cash</th>\n",
       "      <th>Credit</th>\n",
       "      <th>Debit</th>\n",
       "    </tr>\n",
       "    <tr>\n",
       "      <th>province</th>\n",
       "      <th></th>\n",
       "      <th></th>\n",
       "      <th></th>\n",
       "    </tr>\n",
       "  </thead>\n",
       "  <tbody>\n",
       "    <tr>\n",
       "      <th>AB</th>\n",
       "      <td>5.0</td>\n",
       "      <td>2.0</td>\n",
       "      <td>4.0</td>\n",
       "    </tr>\n",
       "    <tr>\n",
       "      <th>BC</th>\n",
       "      <td>NaN</td>\n",
       "      <td>2.0</td>\n",
       "      <td>4.0</td>\n",
       "    </tr>\n",
       "    <tr>\n",
       "      <th>MB</th>\n",
       "      <td>2.0</td>\n",
       "      <td>1.0</td>\n",
       "      <td>NaN</td>\n",
       "    </tr>\n",
       "    <tr>\n",
       "      <th>ON</th>\n",
       "      <td>4.0</td>\n",
       "      <td>4.0</td>\n",
       "      <td>6.0</td>\n",
       "    </tr>\n",
       "  </tbody>\n",
       "</table>\n",
       "</div>"
      ],
      "text/plain": [
       "         txn_type             \n",
       "txn_type     Cash Credit Debit\n",
       "province                      \n",
       "AB            5.0    2.0   4.0\n",
       "BC            NaN    2.0   4.0\n",
       "MB            2.0    1.0   NaN\n",
       "ON            4.0    4.0   6.0"
      ]
     },
     "execution_count": 21,
     "metadata": {},
     "output_type": "execute_result"
    }
   ],
   "source": [
    "joined.groupby([\"province\", \"txn_type\"]).agg({\"txn_type\":\"count\"}).unstack()"
   ]
  },
  {
   "cell_type": "code",
   "execution_count": 22,
   "metadata": {},
   "outputs": [
    {
     "name": "stdout",
     "output_type": "stream",
     "text": [
      "<class 'pandas.core.frame.DataFrame'>\n",
      "Index: 4 entries, AB to ON\n",
      "Data columns (total 3 columns):\n",
      " #   Column              Non-Null Count  Dtype  \n",
      "---  ------              --------------  -----  \n",
      " 0   (txn_type, Cash)    3 non-null      float64\n",
      " 1   (txn_type, Credit)  4 non-null      float64\n",
      " 2   (txn_type, Debit)   3 non-null      float64\n",
      "dtypes: float64(3)\n",
      "memory usage: 128.0+ bytes\n"
     ]
    }
   ],
   "source": [
    "joined.groupby([\"province\", \"txn_type\"]).agg({\"txn_type\":\"count\"}).unstack().info()"
   ]
  },
  {
   "cell_type": "code",
   "execution_count": null,
   "metadata": {},
   "outputs": [],
   "source": []
  }
 ],
 "metadata": {
  "kernelspec": {
   "display_name": "Python 3.9.12 ('base')",
   "language": "python",
   "name": "python3"
  },
  "language_info": {
   "codemirror_mode": {
    "name": "ipython",
    "version": 3
   },
   "file_extension": ".py",
   "mimetype": "text/x-python",
   "name": "python",
   "nbconvert_exporter": "python",
   "pygments_lexer": "ipython3",
   "version": "3.9.12"
  },
  "vscode": {
   "interpreter": {
    "hash": "cbab5e14ac642e0b7d4f8b3c341f39ee1a1cfd41468eefd45b78af4896dd8d2b"
   }
  }
 },
 "nbformat": 4,
 "nbformat_minor": 4
}
