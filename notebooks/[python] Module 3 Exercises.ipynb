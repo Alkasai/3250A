{
 "cells": [
  {
   "cell_type": "markdown",
   "metadata": {},
   "source": [
    "## Practice Questions\n",
    "\n",
    "1. Create two list objects with the following elements in each: [2, 3, 7, 89, 9] [8, 9.8, 9, 8, 89]. Print each list withthe object name. For example: the output will look like this: 'List1: [2, 3, 7, 89, 9] LIst2: [8, 9.8, 9, 8, 89]'"
   ]
  },
  {
   "cell_type": "code",
   "execution_count": 1,
   "metadata": {},
   "outputs": [
    {
     "name": "stdout",
     "output_type": "stream",
     "text": [
      "List1: [2, 3, 7, 89, 9]\n",
      "List2: [8, 9.8, 9, 8, 89]\n"
     ]
    }
   ],
   "source": [
    "l1 = [2, 3, 7, 89, 9]\n",
    "l2 = [8, 9.8, 9, 8, 89]\n",
    "print(f'List1: {l1}')\n",
    "print(f'List2: {l2}')  "
   ]
  },
  {
   "cell_type": "markdown",
   "metadata": {},
   "source": [
    "2. Define a string object which states the following: 'Twinkle, twinkle, little star,How I wonder what you are! Up above the world so high, Like a diamond in the sky.'. Count the number of times the letters 'e', 'a' and 't' appear. Then, write a function to split the separate each word of the string. Hint: you can use the split() method."
   ]
  },
  {
   "cell_type": "code",
   "execution_count": 46,
   "metadata": {},
   "outputs": [
    {
     "name": "stdout",
     "output_type": "stream",
     "text": [
      "There are 9 e's\n",
      "There are 6 a's\n",
      "There are 8 t's\n"
     ]
    }
   ],
   "source": [
    "s = \"Twinkle, twinkle, little star,How I wonder what you are! Up above the world so high, Like a diamond in the sky.\".lower()\n",
    "\n",
    "e = 0\n",
    "a = 0\n",
    "t = 0\n",
    "for i in s:\n",
    "    if i == 'e':\n",
    "        e += 1\n",
    "    elif i == 'a':\n",
    "        a += 1\n",
    "    elif i == 't':\n",
    "        t += 1\n",
    "\n",
    "print(f\"There are {e} e's\")\n",
    "print(f\"There are {a} a's\")\n",
    "print(f\"There are {t} t's\")"
   ]
  },
  {
   "cell_type": "code",
   "execution_count": 24,
   "metadata": {},
   "outputs": [
    {
     "data": {
      "text/plain": [
       "['Twinkle',\n",
       " 'twinkle',\n",
       " 'little',\n",
       " 'star',\n",
       " 'How',\n",
       " 'I',\n",
       " 'wonder',\n",
       " 'what',\n",
       " 'you',\n",
       " 'are',\n",
       " 'Up',\n",
       " 'above',\n",
       " 'the',\n",
       " 'world',\n",
       " 'so',\n",
       " 'high',\n",
       " 'Like',\n",
       " 'a',\n",
       " 'diamond',\n",
       " 'in',\n",
       " 'the',\n",
       " 'sky']"
      ]
     },
     "execution_count": 25,
     "metadata": {},
     "output_type": "execute_result"
    }
   ],
   "source": [
    "list(\n",
    "    filter(\n",
    "        lambda a: a != '',\n",
    "        s.replace(\",\",\" \").replace(\"!\", \" \").replace(\".\", \" \").split(\" \")\n",
    "    )\n",
    ")"
   ]
  },
  {
   "cell_type": "markdown",
   "metadata": {},
   "source": [
    "3. Create a dictionary with the following keys and corresponding values related to cars and models: \n",
    "\n",
    "    * Keys: Toronto, Vancouver, Montreal, Winnipeg\n",
    "    * Values: Ontario, British Columbia, Quebec, Manitoba\n",
    "\n",
    "Write a function to add an entry to the dictionary: \"Saskatoon: Saskatchewan\"."
   ]
  },
  {
   "cell_type": "code",
   "execution_count": 33,
   "metadata": {},
   "outputs": [
    {
     "data": {
      "text/plain": [
       "{'Toronto': 'Ontario',\n",
       " 'Vancouver': 'British Columbia',\n",
       " 'Montreal': 'Manitoba',\n",
       " 'Saskatoon': 'Saskatchewan'}"
      ]
     },
     "execution_count": 33,
     "metadata": {},
     "output_type": "execute_result"
    }
   ],
   "source": [
    "locations = {\n",
    "    \"Toronto\": \"Ontario\",\n",
    "    \"Vancouver\": \"British Columbia\",\n",
    "    \"Montreal\": \"Quebec\",\n",
    "    \"Montreal\": \"Manitoba\",\n",
    "}\n",
    "locations[\"Saskatoon\"] = \"Saskatchewan\"\n",
    "locations"
   ]
  },
  {
   "cell_type": "markdown",
   "metadata": {},
   "source": [
    "4. For the dictionary in the previous question, define a function to check if a value is in the dictionary. Then, use the function to check if Alberta is in the dictionary."
   ]
  },
  {
   "cell_type": "code",
   "execution_count": 38,
   "metadata": {},
   "outputs": [
    {
     "data": {
      "text/plain": [
       "False"
      ]
     },
     "execution_count": 38,
     "metadata": {},
     "output_type": "execute_result"
    }
   ],
   "source": [
    "def has(d, k):\n",
    "    for (k1,_) in d.items():\n",
    "        if k1 == k:\n",
    "            return True\n",
    "    return False\n",
    "    \n",
    "has(locations, \"Alberta\")"
   ]
  },
  {
   "cell_type": "markdown",
   "metadata": {},
   "source": [
    "5. Define variables to represent the following rectangle coordinates: (2,3), (2,8), (4,3), (4,8). Then, write an if statement to check if the point (3,5) is inside the rectangle."
   ]
  },
  {
   "cell_type": "code",
   "execution_count": 42,
   "metadata": {},
   "outputs": [],
   "source": [
    "bottomLeft = (2,3)\n",
    "topLeft = (2,8)\n",
    "bottomRight = (4,3)\n",
    "topRight = (4,8)\n",
    "\n",
    "def inside(bl,tr,p):\n",
    "    # above bottom left point, e.g. (2,3)\n",
    "    # and\n",
    "    # below top right point, e.g. (4,8) \n",
    "    return p >= bl and p <= tr"
   ]
  },
  {
   "cell_type": "code",
   "execution_count": 43,
   "metadata": {},
   "outputs": [
    {
     "data": {
      "text/plain": [
       "True"
      ]
     },
     "execution_count": 43,
     "metadata": {},
     "output_type": "execute_result"
    }
   ],
   "source": [
    "inside(bottomLeft,topRight,(3,5))"
   ]
  },
  {
   "cell_type": "markdown",
   "metadata": {},
   "source": [
    "6. Write a function to compute the n-th element of the Fibonacci sequence recursively. If you need to familiarize yourself with the Fibonacci sequence, please refer to https://en.wikipedia.org/wiki/Fibonacci_number (Fibonacci number, n.d.). The function should take an integer number n as an argument and return n-th element of the Fibonacci sequence. The first two numbers in the sequence are 0 and 1, and each subsequent number is the sum of the previous two."
   ]
  },
  {
   "cell_type": "code",
   "execution_count": 56,
   "metadata": {},
   "outputs": [],
   "source": [
    "def fib(n):\n",
    "    if n <= 1:\n",
    "        return n\n",
    "    else:\n",
    "        return fib(n-2) + fib(n-1)\n",
    "    "
   ]
  },
  {
   "cell_type": "code",
   "execution_count": 57,
   "metadata": {},
   "outputs": [
    {
     "data": {
      "text/plain": [
       "0"
      ]
     },
     "execution_count": 57,
     "metadata": {},
     "output_type": "execute_result"
    }
   ],
   "source": [
    "fib(0)"
   ]
  },
  {
   "cell_type": "code",
   "execution_count": 58,
   "metadata": {},
   "outputs": [
    {
     "data": {
      "text/plain": [
       "1"
      ]
     },
     "execution_count": 58,
     "metadata": {},
     "output_type": "execute_result"
    }
   ],
   "source": [
    "fib(1)"
   ]
  },
  {
   "cell_type": "code",
   "execution_count": 59,
   "metadata": {},
   "outputs": [
    {
     "data": {
      "text/plain": [
       "1"
      ]
     },
     "execution_count": 59,
     "metadata": {},
     "output_type": "execute_result"
    }
   ],
   "source": [
    "fib(2)"
   ]
  },
  {
   "cell_type": "code",
   "execution_count": 60,
   "metadata": {},
   "outputs": [
    {
     "data": {
      "text/plain": [
       "2"
      ]
     },
     "execution_count": 60,
     "metadata": {},
     "output_type": "execute_result"
    }
   ],
   "source": [
    "fib(3)"
   ]
  },
  {
   "cell_type": "code",
   "execution_count": 61,
   "metadata": {},
   "outputs": [
    {
     "data": {
      "text/plain": [
       "3"
      ]
     },
     "execution_count": 61,
     "metadata": {},
     "output_type": "execute_result"
    }
   ],
   "source": [
    "fib(4)"
   ]
  },
  {
   "cell_type": "code",
   "execution_count": 62,
   "metadata": {},
   "outputs": [
    {
     "data": {
      "text/plain": [
       "21"
      ]
     },
     "execution_count": 62,
     "metadata": {},
     "output_type": "execute_result"
    }
   ],
   "source": [
    "fib(8)"
   ]
  },
  {
   "cell_type": "markdown",
   "metadata": {},
   "source": [
    "## Answers"
   ]
  },
  {
   "cell_type": "markdown",
   "metadata": {},
   "source": [
    "1. Create two list objects with the following elements in each: [2, 3, 7, 89, 9] [8, 9.8, 9, 8, 89]. Print each list withthe object name. For example: the output will look like this: 'List1: [2, 3, 7, 89, 9] LIst2: [8, 9.8, 9, 8, 89]'"
   ]
  },
  {
   "cell_type": "code",
   "execution_count": 6,
   "metadata": {},
   "outputs": [
    {
     "name": "stdout",
     "output_type": "stream",
     "text": [
      "List1:  [2, 3, 7, 89, 9] and List2:  [8, 9.8, 9, 8, 89]\n"
     ]
    }
   ],
   "source": [
    "list1 = [2,3,7,89,9]\n",
    "list2 = [8,9.8,9,8,89]\n",
    "\n",
    "print('List1: ',list1,'and', 'List2: ',list2)"
   ]
  },
  {
   "cell_type": "markdown",
   "metadata": {},
   "source": [
    "2. Define a string object which states the following: 'Twinkle, twinkle, little star,How I wonder what you are! Up above the world so high, Like a diamond in the sky.'. Count the number of times the letters 'e', 'a' and 't' appear."
   ]
  },
  {
   "cell_type": "code",
   "execution_count": 27,
   "metadata": {},
   "outputs": [
    {
     "name": "stdout",
     "output_type": "stream",
     "text": [
      "6 9 8\n"
     ]
    }
   ],
   "source": [
    "string = 'Twinkle, twinkle, little star,How I wonder what you are! Up above the world so high, Like a diamond in the sky.'\n",
    "print(string.count('a'), string.count('e'), string.lower().count('t')) #apply lower() as Python is case sensitive"
   ]
  },
  {
   "cell_type": "code",
   "execution_count": 26,
   "metadata": {},
   "outputs": [
    {
     "name": "stdout",
     "output_type": "stream",
     "text": [
      "6\n",
      "9\n",
      "8\n"
     ]
    }
   ],
   "source": [
    "#alternative solution with a loop\n",
    "string_list = ['a','e','t']\n",
    "\n",
    "for i in string_list:\n",
    "    print(string.lower().count(i))"
   ]
  },
  {
   "cell_type": "code",
   "execution_count": 37,
   "metadata": {},
   "outputs": [
    {
     "data": {
      "text/plain": [
       "['Twinkle,',\n",
       " 'twinkle,',\n",
       " 'little',\n",
       " 'star,How',\n",
       " 'I',\n",
       " 'wonder',\n",
       " 'what',\n",
       " 'you',\n",
       " 'are!',\n",
       " 'Up',\n",
       " 'above',\n",
       " 'the',\n",
       " 'world',\n",
       " 'so',\n",
       " 'high,',\n",
       " 'Like',\n",
       " 'a',\n",
       " 'diamond',\n",
       " 'in',\n",
       " 'the',\n",
       " 'sky.']"
      ]
     },
     "execution_count": 37,
     "metadata": {},
     "output_type": "execute_result"
    }
   ],
   "source": [
    "string.split(\" \")"
   ]
  },
  {
   "cell_type": "markdown",
   "metadata": {},
   "source": [
    "3. Create a dictionary with the following keys and corresponding values related to cars and models: \n",
    "\n",
    "    * Keys: Toronto, Vancouver, Montreal, Winnipeg\n",
    "    * Values: Ontario, British Columbia, Quebec, Manitoba\n",
    "\n",
    "Write a function to add an entry to the dictionary: \"Saskatoon: Saskatchewan\"."
   ]
  },
  {
   "cell_type": "code",
   "execution_count": 29,
   "metadata": {},
   "outputs": [],
   "source": [
    "d = {'Toronto': 'Ontario', 'British Columbia': 'Vancouver', 'Quebec': 'Montreal', 'Manitoba': 'Winnipeg'}\n"
   ]
  },
  {
   "cell_type": "code",
   "execution_count": 30,
   "metadata": {},
   "outputs": [],
   "source": [
    "d.update({'Saskatoon':'Saskatchewan'})"
   ]
  },
  {
   "cell_type": "code",
   "execution_count": 31,
   "metadata": {},
   "outputs": [
    {
     "data": {
      "text/plain": [
       "{'Toronto': 'Ontario',\n",
       " 'British Columbia': 'Vancouver',\n",
       " 'Quebec': 'Montreal',\n",
       " 'Manitoba': 'Winnipeg',\n",
       " 'Saskatoon': 'Saskatchewan'}"
      ]
     },
     "execution_count": 31,
     "metadata": {},
     "output_type": "execute_result"
    }
   ],
   "source": [
    "d"
   ]
  },
  {
   "cell_type": "markdown",
   "metadata": {},
   "source": [
    "4. For the dictionary in the previous question, define a function to check if a value is in the dictionary. Then, use the function to check if Alberta is in the dictionary."
   ]
  },
  {
   "cell_type": "code",
   "execution_count": 34,
   "metadata": {},
   "outputs": [
    {
     "name": "stdout",
     "output_type": "stream",
     "text": [
      "Key is not present in the dictionary\n"
     ]
    }
   ],
   "source": [
    "def key_check(x):\n",
    "    if x in d:\n",
    "        print('Key is present in the dictionary')\n",
    "    else:\n",
    "        print('Key is not present in the dictionary')\n",
    "\n",
    "key_check('Alberta')"
   ]
  },
  {
   "cell_type": "markdown",
   "metadata": {},
   "source": [
    "5. Define variables to represent the following rectangle coordinates: (2,3), (2,8), (4,3), (4,8). Then, write an if statement to check if the point (3,5) is inside the rectangle."
   ]
  },
  {
   "cell_type": "code",
   "execution_count": 35,
   "metadata": {},
   "outputs": [
    {
     "name": "stdout",
     "output_type": "stream",
     "text": [
      "The point is inside the rectangle\n"
     ]
    }
   ],
   "source": [
    "corner1=(2,3)\n",
    "corner2=(2,8)\n",
    "corner3=(4,3)\n",
    "corner4=(4,8)\n",
    "\n",
    "point=(3,5)\n",
    "\n",
    "if point[0]>=corner1[0] and point[0]<=corner3[0] and point[1]>=corner1[1] and point[1]<=corner4[1]:\n",
    "    print('The point is inside the rectangle')\n",
    "else:\n",
    "    print('The point is not in the rectangle')"
   ]
  },
  {
   "cell_type": "markdown",
   "metadata": {},
   "source": [
    "6. Write a function to compute the n-th element of the Fibonacci sequence recursively. If you need to familiarize yourself with the Fibonacci sequence, please refer to https://en.wikipedia.org/wiki/Fibonacci_number (Fibonacci number, n.d.). The function should take an integer number n as an argument and return n-th element of the Fibonacci sequence. The first two numbers in the sequence are 0 and 1, and each subsequent number is the sum of the previous two."
   ]
  },
  {
   "cell_type": "code",
   "execution_count": 36,
   "metadata": {},
   "outputs": [],
   "source": [
    "'''The first two numbers are 0 and 1; so that if n is 0 or 1,\n",
    "the numbers in Fibonacci sequence are 0 and 1, correspondingly.\n",
    "For other n we take sum of two preceding numbers in the sequence.'''\n",
    "\n",
    "\n",
    "def fibonacci(n):\n",
    "    if n <= 1:\n",
    "        return n\n",
    "    else:\n",
    "        return fibonacci(n-1) + fibonacci(n-2)"
   ]
  },
  {
   "cell_type": "code",
   "execution_count": null,
   "metadata": {},
   "outputs": [],
   "source": []
  }
 ],
 "metadata": {
  "kernelspec": {
   "display_name": "Python 3.9.12 ('base')",
   "language": "python",
   "name": "python3"
  },
  "language_info": {
   "codemirror_mode": {
    "name": "ipython",
    "version": 3
   },
   "file_extension": ".py",
   "mimetype": "text/x-python",
   "name": "python",
   "nbconvert_exporter": "python",
   "pygments_lexer": "ipython3",
   "version": "3.9.12"
  },
  "vscode": {
   "interpreter": {
    "hash": "cbab5e14ac642e0b7d4f8b3c341f39ee1a1cfd41468eefd45b78af4896dd8d2b"
   }
  }
 },
 "nbformat": 4,
 "nbformat_minor": 4
}
