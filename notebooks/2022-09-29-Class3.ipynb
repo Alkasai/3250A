{
 "cells": [
  {
   "cell_type": "markdown",
   "id": "fed9a63b-66bf-41f8-8b68-d59fba78be53",
   "metadata": {
    "tags": []
   },
   "source": [
    "## Comment\n",
    "blah"
   ]
  },
  {
   "cell_type": "code",
   "execution_count": 5,
   "id": "69f9a13f-f2fa-42fa-b774-ded9944ee3cd",
   "metadata": {},
   "outputs": [],
   "source": [
    "d = 2+2"
   ]
  },
  {
   "cell_type": "code",
   "execution_count": 6,
   "id": "8a8b49cc-2358-4177-bc35-db4c71a46c05",
   "metadata": {},
   "outputs": [
    {
     "data": {
      "text/plain": [
       "4"
      ]
     },
     "execution_count": 6,
     "metadata": {},
     "output_type": "execute_result"
    }
   ],
   "source": [
    "d"
   ]
  },
  {
   "cell_type": "code",
   "execution_count": 7,
   "id": "4cc09140-032b-45c2-bd67-4de9542c9649",
   "metadata": {},
   "outputs": [
    {
     "name": "stdout",
     "output_type": "stream",
     "text": [
      "Hello World\n"
     ]
    }
   ],
   "source": [
    "print(\"Hello World\")"
   ]
  },
  {
   "cell_type": "code",
   "execution_count": 14,
   "id": "2a90e4f1-5c5c-4951-b740-0b255b158480",
   "metadata": {},
   "outputs": [],
   "source": [
    "pi = 3.14\n",
    "radius = 5"
   ]
  },
  {
   "cell_type": "code",
   "execution_count": 15,
   "id": "4b4edbf6-4ab2-4ce7-a6a7-d283b1572bec",
   "metadata": {},
   "outputs": [],
   "source": [
    "area_of_circle = pi * radius ** 2"
   ]
  },
  {
   "cell_type": "code",
   "execution_count": 16,
   "id": "ba70a5ac-cfd7-48a9-8be0-a7ea044bc7a3",
   "metadata": {},
   "outputs": [
    {
     "data": {
      "text/plain": [
       "78.5"
      ]
     },
     "execution_count": 16,
     "metadata": {},
     "output_type": "execute_result"
    }
   ],
   "source": [
    "area_of_circle"
   ]
  },
  {
   "cell_type": "markdown",
   "id": "18514151-9bf5-470d-ad1f-1324b7e21424",
   "metadata": {},
   "source": [
    "click on `print` and click `Shift + Tab` to see documentation for `tab`"
   ]
  },
  {
   "cell_type": "code",
   "execution_count": 20,
   "id": "ac27d92c-f964-44fb-972c-afeab6adf70e",
   "metadata": {},
   "outputs": [
    {
     "name": "stdout",
     "output_type": "stream",
     "text": [
      "78.5\n"
     ]
    }
   ],
   "source": [
    "print(area_of_circle)"
   ]
  },
  {
   "cell_type": "code",
   "execution_count": 22,
   "id": "6965463d-5729-4ffa-a41b-12684990c6b2",
   "metadata": {},
   "outputs": [
    {
     "data": {
      "text/plain": [
       "7"
      ]
     },
     "execution_count": 22,
     "metadata": {},
     "output_type": "execute_result"
    }
   ],
   "source": [
    "7 # int"
   ]
  },
  {
   "cell_type": "code",
   "execution_count": 30,
   "id": "74884fff-802b-4de1-8e5c-1cae4d580503",
   "metadata": {},
   "outputs": [
    {
     "data": {
      "text/plain": [
       "2"
      ]
     },
     "execution_count": 30,
     "metadata": {},
     "output_type": "execute_result"
    }
   ],
   "source": [
    "True + 1"
   ]
  },
  {
   "cell_type": "code",
   "execution_count": 28,
   "id": "379f2e52-67f5-47e4-a288-a73b3601e161",
   "metadata": {},
   "outputs": [
    {
     "data": {
      "text/plain": [
       "'blah blah some inner data'"
      ]
     },
     "execution_count": 28,
     "metadata": {},
     "output_type": "execute_result"
    }
   ],
   "source": [
    "f'blah blah {\"some inner data\"}' # string interpolation"
   ]
  },
  {
   "cell_type": "code",
   "execution_count": 31,
   "id": "faaeaf1f-f313-4178-9ff1-08726ceaf057",
   "metadata": {},
   "outputs": [],
   "source": [
    "print = 3"
   ]
  },
  {
   "cell_type": "code",
   "execution_count": 32,
   "id": "b4333c94-2ec1-4485-87b0-0201a316f657",
   "metadata": {},
   "outputs": [],
   "source": [
    "del print # to remove the new definition"
   ]
  },
  {
   "cell_type": "code",
   "execution_count": 33,
   "id": "643a5fd0-28d8-4786-95e8-8038205a27ab",
   "metadata": {},
   "outputs": [
    {
     "name": "stdout",
     "output_type": "stream",
     "text": [
      "5\n"
     ]
    }
   ],
   "source": [
    "print(5)"
   ]
  },
  {
   "cell_type": "markdown",
   "id": "6529ca6f-16f2-4dfd-a793-2bf34d5d8e73",
   "metadata": {},
   "source": [
    "### lists"
   ]
  },
  {
   "cell_type": "code",
   "execution_count": 35,
   "id": "c88800cf-31d5-423a-a8c7-9785a5f95244",
   "metadata": {},
   "outputs": [],
   "source": [
    "list1 = [3,4,8,'text']"
   ]
  },
  {
   "cell_type": "code",
   "execution_count": 36,
   "id": "d8cda4ba-e59e-46d9-85a8-ef58534cf275",
   "metadata": {},
   "outputs": [
    {
     "data": {
      "text/plain": [
       "[3, 4, 8, 'text']"
      ]
     },
     "execution_count": 36,
     "metadata": {},
     "output_type": "execute_result"
    }
   ],
   "source": [
    "list1"
   ]
  },
  {
   "cell_type": "code",
   "execution_count": 38,
   "id": "f43d16c8-c936-4512-8579-1a254b453de1",
   "metadata": {},
   "outputs": [
    {
     "data": {
      "text/plain": [
       "8"
      ]
     },
     "execution_count": 38,
     "metadata": {},
     "output_type": "execute_result"
    }
   ],
   "source": [
    "list1[2] # pull second element"
   ]
  },
  {
   "cell_type": "code",
   "execution_count": 39,
   "id": "1eb8cdf5-3b7b-477b-8798-38b04cd5050f",
   "metadata": {},
   "outputs": [
    {
     "data": {
      "text/plain": [
       "[3, 4, 8]"
      ]
     },
     "execution_count": 39,
     "metadata": {},
     "output_type": "execute_result"
    }
   ],
   "source": [
    "list1[0:3] # slice from 0 up to 3"
   ]
  },
  {
   "cell_type": "code",
   "execution_count": 42,
   "id": "01d9eb36-c5ae-4f99-b7f5-1d8bb161b9e6",
   "metadata": {},
   "outputs": [
    {
     "data": {
      "text/plain": [
       "[3, 4, 8]"
      ]
     },
     "execution_count": 42,
     "metadata": {},
     "output_type": "execute_result"
    }
   ],
   "source": [
    "list1[:3] # slice up to 3"
   ]
  },
  {
   "cell_type": "code",
   "execution_count": 43,
   "id": "2b9773bd-e22c-4d85-b12e-8ee0d221e14e",
   "metadata": {},
   "outputs": [
    {
     "data": {
      "text/plain": [
       "'text'"
      ]
     },
     "execution_count": 43,
     "metadata": {},
     "output_type": "execute_result"
    }
   ],
   "source": [
    "list1[-1] # last"
   ]
  },
  {
   "cell_type": "code",
   "execution_count": 47,
   "id": "5a9ded31-6a47-4fd1-8881-83734b967b06",
   "metadata": {},
   "outputs": [
    {
     "data": {
      "text/plain": [
       "['text']"
      ]
     },
     "execution_count": 47,
     "metadata": {},
     "output_type": "execute_result"
    }
   ],
   "source": [
    "list1[3:] # from 3rd position"
   ]
  },
  {
   "cell_type": "code",
   "execution_count": 50,
   "id": "b4d57bb5-9ff3-45e6-a554-d28473212b47",
   "metadata": {},
   "outputs": [],
   "source": [
    "list1[-1] = 10 # update last element"
   ]
  },
  {
   "cell_type": "code",
   "execution_count": 51,
   "id": "79fce4c2-0402-445c-85a7-9a7eaf51e9fd",
   "metadata": {},
   "outputs": [
    {
     "data": {
      "text/plain": [
       "[3, 4, 8, 10]"
      ]
     },
     "execution_count": 51,
     "metadata": {},
     "output_type": "execute_result"
    }
   ],
   "source": [
    "list1"
   ]
  },
  {
   "cell_type": "markdown",
   "id": "647a351d-5803-4acb-b1a7-c74b2668bbd8",
   "metadata": {},
   "source": [
    "### tuples"
   ]
  },
  {
   "cell_type": "code",
   "execution_count": 52,
   "id": "b77efb84-3b83-4100-8d3e-d9539bb80dba",
   "metadata": {},
   "outputs": [],
   "source": [
    "tuple1 = (1,3,4,10)"
   ]
  },
  {
   "cell_type": "code",
   "execution_count": 53,
   "id": "c84fe3a9-7423-499e-b44f-eae2fe87499b",
   "metadata": {},
   "outputs": [
    {
     "data": {
      "text/plain": [
       "(1, 3, 4, 10)"
      ]
     },
     "execution_count": 53,
     "metadata": {},
     "output_type": "execute_result"
    }
   ],
   "source": [
    "tuple1"
   ]
  },
  {
   "cell_type": "code",
   "execution_count": 54,
   "id": "f8232d69-1dcd-47c7-bc5e-1631d54099dd",
   "metadata": {},
   "outputs": [
    {
     "data": {
      "text/plain": [
       "1"
      ]
     },
     "execution_count": 54,
     "metadata": {},
     "output_type": "execute_result"
    }
   ],
   "source": [
    "tuple1[0]"
   ]
  },
  {
   "cell_type": "code",
   "execution_count": 55,
   "id": "733b8ecf-c1ba-4741-adb8-a0eb1acd1f00",
   "metadata": {},
   "outputs": [
    {
     "ename": "TypeError",
     "evalue": "'tuple' object does not support item assignment",
     "output_type": "error",
     "traceback": [
      "\u001b[1;31m---------------------------------------------------------------------------\u001b[0m",
      "\u001b[1;31mTypeError\u001b[0m                                 Traceback (most recent call last)",
      "Input \u001b[1;32mIn [55]\u001b[0m, in \u001b[0;36m<cell line: 1>\u001b[1;34m()\u001b[0m\n\u001b[1;32m----> 1\u001b[0m tuple1[\u001b[38;5;241m0\u001b[39m] \u001b[38;5;241m=\u001b[39m \u001b[38;5;241m2\u001b[39m\n",
      "\u001b[1;31mTypeError\u001b[0m: 'tuple' object does not support item assignment"
     ]
    }
   ],
   "source": [
    "tuple1[0] = 2"
   ]
  },
  {
   "cell_type": "markdown",
   "id": "01a8887e-6a94-4dbd-86ba-2e700c5f88e2",
   "metadata": {},
   "source": [
    "### sets"
   ]
  },
  {
   "cell_type": "code",
   "execution_count": 56,
   "id": "2c3d4905-b56d-4e4b-96ca-2e004b7347ab",
   "metadata": {},
   "outputs": [],
   "source": [
    "set1 = {1,2,3,4,4}"
   ]
  },
  {
   "cell_type": "code",
   "execution_count": 57,
   "id": "1b6959f9-ae47-4dab-b876-2b2c2d55b329",
   "metadata": {},
   "outputs": [
    {
     "data": {
      "text/plain": [
       "{1, 2, 3, 4}"
      ]
     },
     "execution_count": 57,
     "metadata": {},
     "output_type": "execute_result"
    }
   ],
   "source": [
    "set1"
   ]
  },
  {
   "cell_type": "code",
   "execution_count": 58,
   "id": "6a30c5bc-cb4e-46ff-b435-3cce602370b4",
   "metadata": {},
   "outputs": [
    {
     "data": {
      "text/plain": [
       "{True}"
      ]
     },
     "execution_count": 58,
     "metadata": {},
     "output_type": "execute_result"
    }
   ],
   "source": [
    "{True, 1}"
   ]
  },
  {
   "cell_type": "code",
   "execution_count": 59,
   "id": "c23cfb5a-8c8b-4ab3-8241-0c6abc1743fd",
   "metadata": {},
   "outputs": [
    {
     "data": {
      "text/plain": [
       "{1}"
      ]
     },
     "execution_count": 59,
     "metadata": {},
     "output_type": "execute_result"
    }
   ],
   "source": [
    "{1, True}"
   ]
  },
  {
   "cell_type": "markdown",
   "id": "ff067e17-84fb-4485-b59c-4acfe7ecd076",
   "metadata": {},
   "source": [
    "### dictionary"
   ]
  },
  {
   "cell_type": "code",
   "execution_count": 60,
   "id": "533d2ae9-aa91-4367-a547-f78197f05cdc",
   "metadata": {},
   "outputs": [],
   "source": [
    "dictionary = {\"ON\":\"Toronto\",\"MB\":\"Regina\"}"
   ]
  },
  {
   "cell_type": "code",
   "execution_count": 61,
   "id": "1498a8db-9867-427c-a453-2c1b87b89f9c",
   "metadata": {},
   "outputs": [
    {
     "data": {
      "text/plain": [
       "{'ON': 'Toronto', 'MB': 'Regina'}"
      ]
     },
     "execution_count": 61,
     "metadata": {},
     "output_type": "execute_result"
    }
   ],
   "source": [
    "dictionary"
   ]
  },
  {
   "cell_type": "code",
   "execution_count": 62,
   "id": "11da8f17-4b48-4ec8-8b80-11e7b7f393d3",
   "metadata": {},
   "outputs": [
    {
     "data": {
      "text/plain": [
       "'Toronto'"
      ]
     },
     "execution_count": 62,
     "metadata": {},
     "output_type": "execute_result"
    }
   ],
   "source": [
    "dictionary[\"ON\"]"
   ]
  },
  {
   "cell_type": "code",
   "execution_count": 63,
   "id": "244d1bab-e397-4fa7-86a6-4117bba1a017",
   "metadata": {},
   "outputs": [],
   "source": [
    "dictionary = {\"ON\":[\"Toronto\",\"London\"],\"MB\":[\"Regina\"]}"
   ]
  },
  {
   "cell_type": "code",
   "execution_count": 64,
   "id": "74dabbc0-1e50-4b28-b6ab-c20cd8992e69",
   "metadata": {},
   "outputs": [
    {
     "data": {
      "text/plain": [
       "{'ON': ['Toronto', 'London'], 'MB': ['Regina']}"
      ]
     },
     "execution_count": 64,
     "metadata": {},
     "output_type": "execute_result"
    }
   ],
   "source": [
    "dictionary"
   ]
  },
  {
   "cell_type": "markdown",
   "id": "aea7bd21-0c76-4453-ba03-1084e05f98bd",
   "metadata": {},
   "source": [
    "### type"
   ]
  },
  {
   "cell_type": "code",
   "execution_count": 65,
   "id": "607048f4-e40e-4639-a6c1-5f9a648ea386",
   "metadata": {},
   "outputs": [
    {
     "data": {
      "text/plain": [
       "list"
      ]
     },
     "execution_count": 65,
     "metadata": {},
     "output_type": "execute_result"
    }
   ],
   "source": [
    "type(list1)"
   ]
  },
  {
   "cell_type": "code",
   "execution_count": 66,
   "id": "cf875a52-cd2b-4e84-bd92-4cf3d70d2289",
   "metadata": {},
   "outputs": [
    {
     "data": {
      "text/plain": [
       "set"
      ]
     },
     "execution_count": 66,
     "metadata": {},
     "output_type": "execute_result"
    }
   ],
   "source": [
    "type(set1)"
   ]
  },
  {
   "cell_type": "code",
   "execution_count": 67,
   "id": "c12fec45-2a78-4f2c-894a-f708858827a8",
   "metadata": {},
   "outputs": [
    {
     "data": {
      "text/plain": [
       "dict"
      ]
     },
     "execution_count": 67,
     "metadata": {},
     "output_type": "execute_result"
    }
   ],
   "source": [
    "type(dictionary)"
   ]
  },
  {
   "cell_type": "code",
   "execution_count": 68,
   "id": "bda68372-de52-4226-b4f2-0b0bb50fb303",
   "metadata": {},
   "outputs": [
    {
     "data": {
      "text/plain": [
       "str"
      ]
     },
     "execution_count": 68,
     "metadata": {},
     "output_type": "execute_result"
    }
   ],
   "source": [
    "type(x)"
   ]
  },
  {
   "cell_type": "code",
   "execution_count": 69,
   "id": "be2fee29-b943-4af7-85f7-89493d467711",
   "metadata": {},
   "outputs": [
    {
     "ename": "TypeError",
     "evalue": "list indices must be integers or slices, not float",
     "output_type": "error",
     "traceback": [
      "\u001b[1;31m---------------------------------------------------------------------------\u001b[0m",
      "\u001b[1;31mTypeError\u001b[0m                                 Traceback (most recent call last)",
      "Input \u001b[1;32mIn [69]\u001b[0m, in \u001b[0;36m<cell line: 1>\u001b[1;34m()\u001b[0m\n\u001b[1;32m----> 1\u001b[0m \u001b[43mlist1\u001b[49m\u001b[43m[\u001b[49m\u001b[38;5;241;43m1.0\u001b[39;49m\u001b[43m]\u001b[49m\n",
      "\u001b[1;31mTypeError\u001b[0m: list indices must be integers or slices, not float"
     ]
    }
   ],
   "source": [
    "list1[1.0]"
   ]
  },
  {
   "cell_type": "code",
   "execution_count": 70,
   "id": "409d75e2-25c1-4a86-8467-4507ee439be8",
   "metadata": {},
   "outputs": [
    {
     "data": {
      "text/plain": [
       "2.0"
      ]
     },
     "execution_count": 70,
     "metadata": {},
     "output_type": "execute_result"
    }
   ],
   "source": [
    "4/2"
   ]
  },
  {
   "cell_type": "code",
   "execution_count": 71,
   "id": "b7ffc0b1-08f7-435e-81a0-f5e100f78acd",
   "metadata": {},
   "outputs": [
    {
     "data": {
      "text/plain": [
       "0.6666666666666666"
      ]
     },
     "execution_count": 71,
     "metadata": {},
     "output_type": "execute_result"
    }
   ],
   "source": [
    "2/3"
   ]
  },
  {
   "cell_type": "code",
   "execution_count": 72,
   "id": "3959e820-4634-4201-88c2-7eb39a03293c",
   "metadata": {},
   "outputs": [
    {
     "data": {
      "text/plain": [
       "8"
      ]
     },
     "execution_count": 72,
     "metadata": {},
     "output_type": "execute_result"
    }
   ],
   "source": [
    "4*2"
   ]
  },
  {
   "cell_type": "code",
   "execution_count": 73,
   "id": "4bcee8be-e2d8-4d5d-9a49-58d940209274",
   "metadata": {},
   "outputs": [
    {
     "data": {
      "text/plain": [
       "1"
      ]
     },
     "execution_count": 73,
     "metadata": {},
     "output_type": "execute_result"
    }
   ],
   "source": [
    "5//3 # floor division"
   ]
  },
  {
   "cell_type": "code",
   "execution_count": 74,
   "id": "8c5f0cc4-8503-4d8a-9703-d04ae8b733c2",
   "metadata": {},
   "outputs": [
    {
     "data": {
      "text/plain": [
       "1.6666666666666667"
      ]
     },
     "execution_count": 74,
     "metadata": {},
     "output_type": "execute_result"
    }
   ],
   "source": [
    "5/3"
   ]
  },
  {
   "cell_type": "code",
   "execution_count": 75,
   "id": "c7184b0f-a982-405a-ac47-d7dfea418b2b",
   "metadata": {},
   "outputs": [
    {
     "data": {
      "text/plain": [
       "2"
      ]
     },
     "execution_count": 75,
     "metadata": {},
     "output_type": "execute_result"
    }
   ],
   "source": [
    "5%3 # modulo division"
   ]
  },
  {
   "cell_type": "markdown",
   "id": "d10e2686-e762-4aee-b7b4-3032d3c58cea",
   "metadata": {},
   "source": [
    "### operators"
   ]
  },
  {
   "cell_type": "code",
   "execution_count": 76,
   "id": "414611e3-5d2d-4fbe-8041-e4a1946029aa",
   "metadata": {},
   "outputs": [
    {
     "data": {
      "text/plain": [
       "True"
      ]
     },
     "execution_count": 76,
     "metadata": {},
     "output_type": "execute_result"
    }
   ],
   "source": [
    "5 > 4"
   ]
  },
  {
   "cell_type": "code",
   "execution_count": 77,
   "id": "52521329-306a-4fe0-a630-7c58030521f2",
   "metadata": {},
   "outputs": [
    {
     "data": {
      "text/plain": [
       "False"
      ]
     },
     "execution_count": 77,
     "metadata": {},
     "output_type": "execute_result"
    }
   ],
   "source": [
    "5 < 4"
   ]
  },
  {
   "cell_type": "code",
   "execution_count": 79,
   "id": "ebe60b19-9cdc-4cda-ae85-0f7a23d3b27f",
   "metadata": {},
   "outputs": [
    {
     "data": {
      "text/plain": [
       "True"
      ]
     },
     "execution_count": 79,
     "metadata": {},
     "output_type": "execute_result"
    }
   ],
   "source": [
    "1 == True # WTF?"
   ]
  },
  {
   "cell_type": "code",
   "execution_count": 80,
   "id": "10f574dc-575d-4969-a956-8a91f664636a",
   "metadata": {},
   "outputs": [
    {
     "data": {
      "text/plain": [
       "True"
      ]
     },
     "execution_count": 80,
     "metadata": {},
     "output_type": "execute_result"
    }
   ],
   "source": [
    "1 != False"
   ]
  },
  {
   "cell_type": "code",
   "execution_count": 81,
   "id": "42d9b18a-ce15-45e3-a19c-bf55bad650f1",
   "metadata": {},
   "outputs": [
    {
     "data": {
      "text/plain": [
       "True"
      ]
     },
     "execution_count": 81,
     "metadata": {},
     "output_type": "execute_result"
    }
   ],
   "source": [
    "1 <= True"
   ]
  },
  {
   "cell_type": "code",
   "execution_count": 82,
   "id": "84b27e55-ffd5-4c72-bf9a-7f12f0c4f98c",
   "metadata": {},
   "outputs": [
    {
     "data": {
      "text/plain": [
       "True"
      ]
     },
     "execution_count": 82,
     "metadata": {},
     "output_type": "execute_result"
    }
   ],
   "source": [
    "0 <= True"
   ]
  },
  {
   "cell_type": "code",
   "execution_count": 84,
   "id": "704e6c96-44ac-4803-9439-c276a9c3ba45",
   "metadata": {},
   "outputs": [
    {
     "data": {
      "text/plain": [
       "False"
      ]
     },
     "execution_count": 84,
     "metadata": {},
     "output_type": "execute_result"
    }
   ],
   "source": [
    "(3,2) > (4,1)"
   ]
  },
  {
   "cell_type": "markdown",
   "id": "99f7340a-e3d1-489e-95d7-335de2873263",
   "metadata": {},
   "source": [
    "### built-in functions"
   ]
  },
  {
   "cell_type": "code",
   "execution_count": 86,
   "id": "a3e9d1f6-3334-4143-9b48-918a90158c0e",
   "metadata": {},
   "outputs": [
    {
     "data": {
      "text/plain": [
       "4"
      ]
     },
     "execution_count": 86,
     "metadata": {},
     "output_type": "execute_result"
    }
   ],
   "source": [
    "len(list1)"
   ]
  },
  {
   "cell_type": "code",
   "execution_count": 87,
   "id": "140cf19a-3d19-4586-808e-7f5d9d713a52",
   "metadata": {},
   "outputs": [
    {
     "data": {
      "text/plain": [
       "<function sorted(iterable, /, *, key=None, reverse=False)>"
      ]
     },
     "execution_count": 87,
     "metadata": {},
     "output_type": "execute_result"
    }
   ],
   "source": [
    "sorted"
   ]
  },
  {
   "cell_type": "code",
   "execution_count": 88,
   "id": "2d7bc2fe-3efe-4112-a540-4d3ff18995dd",
   "metadata": {},
   "outputs": [
    {
     "data": {
      "text/plain": [
       "[3, 4, 8, 10]"
      ]
     },
     "execution_count": 88,
     "metadata": {},
     "output_type": "execute_result"
    }
   ],
   "source": [
    "sorted(list1)"
   ]
  },
  {
   "cell_type": "code",
   "execution_count": 89,
   "id": "f465df3e-acfe-4834-a70e-ab52962d1beb",
   "metadata": {},
   "outputs": [
    {
     "data": {
      "text/plain": [
       "[10, 8, 4, 3]"
      ]
     },
     "execution_count": 89,
     "metadata": {},
     "output_type": "execute_result"
    }
   ],
   "source": [
    "sorted(list1, reverse=True)"
   ]
  },
  {
   "cell_type": "code",
   "execution_count": 90,
   "id": "3548580c-de1d-4100-85a7-4fd3e31a92ca",
   "metadata": {},
   "outputs": [],
   "source": [
    "list1.sort()"
   ]
  },
  {
   "cell_type": "code",
   "execution_count": 91,
   "id": "4b49d57b-4978-4a65-a3c8-da0e81ff306c",
   "metadata": {},
   "outputs": [
    {
     "data": {
      "text/plain": [
       "[1, 3, 4, 10]"
      ]
     },
     "execution_count": 91,
     "metadata": {},
     "output_type": "execute_result"
    }
   ],
   "source": [
    "sorted(tuple1)"
   ]
  },
  {
   "cell_type": "code",
   "execution_count": 92,
   "id": "a020aa79-7b5c-43e8-bec9-864b5ad74069",
   "metadata": {},
   "outputs": [
    {
     "data": {
      "text/plain": [
       "(1, 3, 4, 10)"
      ]
     },
     "execution_count": 92,
     "metadata": {},
     "output_type": "execute_result"
    }
   ],
   "source": [
    "tuple1"
   ]
  },
  {
   "cell_type": "code",
   "execution_count": 93,
   "id": "f355aa3f-aee3-46c7-b632-e9fb5f1b03db",
   "metadata": {},
   "outputs": [
    {
     "data": {
      "text/plain": [
       "[10, 4, 3, 1]"
      ]
     },
     "execution_count": 93,
     "metadata": {},
     "output_type": "execute_result"
    }
   ],
   "source": [
    "sorted(tuple1, reverse=True)"
   ]
  },
  {
   "cell_type": "code",
   "execution_count": 95,
   "id": "bf88cdfc-2431-4d59-be85-5c3be9ae39b3",
   "metadata": {},
   "outputs": [],
   "source": [
    "list1.append(1)"
   ]
  },
  {
   "cell_type": "code",
   "execution_count": 96,
   "id": "493aa29d-3db2-4773-bf50-0dea7e86cfbb",
   "metadata": {},
   "outputs": [
    {
     "data": {
      "text/plain": [
       "[3, 4, 8, 10, 1]"
      ]
     },
     "execution_count": 96,
     "metadata": {},
     "output_type": "execute_result"
    }
   ],
   "source": [
    "list1"
   ]
  },
  {
   "cell_type": "code",
   "execution_count": 97,
   "id": "80900423-66b5-4797-ab1d-108944e8491e",
   "metadata": {},
   "outputs": [],
   "source": [
    "list1 = list1 + [4,2,5,6]"
   ]
  },
  {
   "cell_type": "code",
   "execution_count": 98,
   "id": "a053d8db-9018-464b-9f41-ab78de969c68",
   "metadata": {},
   "outputs": [
    {
     "data": {
      "text/plain": [
       "[3, 4, 8, 10, 1, 4, 2, 5, 6]"
      ]
     },
     "execution_count": 98,
     "metadata": {},
     "output_type": "execute_result"
    }
   ],
   "source": [
    "list1"
   ]
  },
  {
   "cell_type": "markdown",
   "id": "412025cb-b73a-4e0e-b975-69115c800315",
   "metadata": {},
   "source": [
    "### loops"
   ]
  },
  {
   "cell_type": "code",
   "execution_count": 99,
   "id": "186c38a8-a218-4217-aef2-c58305e9ba09",
   "metadata": {},
   "outputs": [
    {
     "name": "stdout",
     "output_type": "stream",
     "text": [
      "3\n",
      "4\n",
      "8\n",
      "10\n",
      "1\n",
      "4\n",
      "2\n",
      "5\n",
      "6\n"
     ]
    }
   ],
   "source": [
    "for i in list1:\n",
    "    print(i)"
   ]
  },
  {
   "cell_type": "code",
   "execution_count": 102,
   "id": "6da42db1-4270-4d14-b799-5dd847187646",
   "metadata": {},
   "outputs": [],
   "source": [
    "new_list = []\n",
    "for i in list1:\n",
    "    new_list.append(i*2)"
   ]
  },
  {
   "cell_type": "code",
   "execution_count": 103,
   "id": "f844f69f-ecb9-46e4-8d69-f17157d0f860",
   "metadata": {},
   "outputs": [
    {
     "data": {
      "text/plain": [
       "[6, 8, 16, 20, 2, 8, 4, 10, 12]"
      ]
     },
     "execution_count": 103,
     "metadata": {},
     "output_type": "execute_result"
    }
   ],
   "source": [
    "new_list"
   ]
  },
  {
   "cell_type": "code",
   "execution_count": 104,
   "id": "861b4938-f145-4a8f-a416-234b2edc180b",
   "metadata": {},
   "outputs": [
    {
     "name": "stdout",
     "output_type": "stream",
     "text": [
      "('ON', ['Toronto', 'London'])\n",
      "('MB', ['Regina'])\n"
     ]
    }
   ],
   "source": [
    "for i in dictionary.items():\n",
    "        print(i)"
   ]
  },
  {
   "cell_type": "code",
   "execution_count": 105,
   "id": "e7320082-7f33-4c77-8106-62e162fad071",
   "metadata": {},
   "outputs": [
    {
     "name": "stdout",
     "output_type": "stream",
     "text": [
      "['Toronto', 'London']\n",
      "['Regina']\n"
     ]
    }
   ],
   "source": [
    "for k,v in dictionary.items():\n",
    "        print(v)"
   ]
  },
  {
   "cell_type": "code",
   "execution_count": 106,
   "id": "417c9f96-b2d7-4f92-9179-f07171f41bf3",
   "metadata": {},
   "outputs": [
    {
     "name": "stdout",
     "output_type": "stream",
     "text": [
      "ON\n",
      "Toronto\n",
      "London\n",
      "MB\n",
      "Regina\n"
     ]
    }
   ],
   "source": [
    "for k,v in dictionary.items():\n",
    "        print(k)\n",
    "        for i in v:\n",
    "            print(i)"
   ]
  },
  {
   "cell_type": "markdown",
   "id": "510b58a0-00f8-4a4d-8457-e52347e7e535",
   "metadata": {},
   "source": [
    "### conditional statements"
   ]
  },
  {
   "cell_type": "code",
   "execution_count": 107,
   "id": "b37a8c89-6ccf-41b0-ad4c-644300e948c3",
   "metadata": {},
   "outputs": [
    {
     "name": "stdout",
     "output_type": "stream",
     "text": [
      "8\n",
      "16\n",
      "20\n",
      "8\n",
      "4\n",
      "12\n"
     ]
    }
   ],
   "source": [
    "for i in list1:\n",
    "    if i % 2 == 0:\n",
    "        print(i*2)"
   ]
  },
  {
   "cell_type": "code",
   "execution_count": 108,
   "id": "5ca5c7ba-641a-4726-a0c4-16dfd2221591",
   "metadata": {},
   "outputs": [
    {
     "name": "stdout",
     "output_type": "stream",
     "text": [
      "8\n",
      "16\n",
      "20\n",
      "8\n",
      "4\n",
      "12\n"
     ]
    }
   ],
   "source": [
    "for i in list1:\n",
    "    if i % 2 == 0:\n",
    "        print(i*2)\n",
    "    else:\n",
    "        continue"
   ]
  },
  {
   "cell_type": "code",
   "execution_count": 111,
   "id": "fd8c5bba-20f2-4903-9043-d5cc099490cb",
   "metadata": {},
   "outputs": [
    {
     "name": "stdout",
     "output_type": "stream",
     "text": [
      "12\n",
      "8\n",
      "16\n",
      "20\n",
      "8\n",
      "4\n",
      "12\n"
     ]
    }
   ],
   "source": [
    "for i in list1:\n",
    "    if i % 2 == 0:\n",
    "        print(i*2)\n",
    "    elif i % 3 == 0:\n",
    "        print(i*4)\n",
    "    else:\n",
    "        continue"
   ]
  },
  {
   "cell_type": "markdown",
   "id": "f165abec-6afb-453f-9e3a-6aeada6e182e",
   "metadata": {},
   "source": [
    "### custom functions"
   ]
  },
  {
   "cell_type": "code",
   "execution_count": 112,
   "id": "4ff0cea9-e8ed-4e13-8734-3f9b8534dffb",
   "metadata": {},
   "outputs": [
    {
     "data": {
      "text/plain": [
       "1"
      ]
     },
     "execution_count": 112,
     "metadata": {},
     "output_type": "execute_result"
    }
   ],
   "source": [
    "min(list1)"
   ]
  },
  {
   "cell_type": "code",
   "execution_count": 113,
   "id": "23eea944-7db2-400d-ac8a-79efc3799b9d",
   "metadata": {},
   "outputs": [
    {
     "data": {
      "text/plain": [
       "10"
      ]
     },
     "execution_count": 113,
     "metadata": {},
     "output_type": "execute_result"
    }
   ],
   "source": [
    "max(list1)"
   ]
  },
  {
   "cell_type": "code",
   "execution_count": 114,
   "id": "2dd938f3-d908-4498-ae41-5c0b2b7e71b5",
   "metadata": {},
   "outputs": [
    {
     "data": {
      "text/plain": [
       "4.777777777777778"
      ]
     },
     "execution_count": 114,
     "metadata": {},
     "output_type": "execute_result"
    }
   ],
   "source": [
    "sum(list1)/len(list1)"
   ]
  },
  {
   "cell_type": "code",
   "execution_count": 115,
   "id": "8104c2a6-3c56-46b6-95de-e7356c59aaa6",
   "metadata": {},
   "outputs": [],
   "source": [
    "def mean(l):\n",
    "    mean = sum(l)/len(l)\n",
    "    print(mean)"
   ]
  },
  {
   "cell_type": "code",
   "execution_count": 116,
   "id": "9bd056ab-fc04-4ae8-9193-bd5b3e012979",
   "metadata": {},
   "outputs": [
    {
     "name": "stdout",
     "output_type": "stream",
     "text": [
      "4.777777777777778\n"
     ]
    }
   ],
   "source": [
    "mean(list1)"
   ]
  },
  {
   "cell_type": "code",
   "execution_count": 120,
   "id": "c8c2c768-e13b-4480-b82b-645f1355af93",
   "metadata": {},
   "outputs": [],
   "source": [
    "def mean2(l):\n",
    "     return sum(l)/len(l)"
   ]
  },
  {
   "cell_type": "code",
   "execution_count": 121,
   "id": "d46c9818-ab46-4710-b165-b82d69d8e4ec",
   "metadata": {},
   "outputs": [
    {
     "data": {
      "text/plain": [
       "4.777777777777778"
      ]
     },
     "execution_count": 121,
     "metadata": {},
     "output_type": "execute_result"
    }
   ],
   "source": [
    "mean2(list1)"
   ]
  },
  {
   "cell_type": "code",
   "execution_count": 122,
   "id": "aee70bea-4d9b-4a5d-a04a-8be303d01c7a",
   "metadata": {},
   "outputs": [],
   "source": [
    "def fun1(a,b,c):\n",
    "    if b > a and b < c:\n",
    "        print(True)\n",
    "    else:\n",
    "        print(False)"
   ]
  },
  {
   "cell_type": "code",
   "execution_count": 123,
   "id": "485e41cb-afe7-42af-9600-6cfee77919de",
   "metadata": {},
   "outputs": [
    {
     "name": "stdout",
     "output_type": "stream",
     "text": [
      "True\n"
     ]
    }
   ],
   "source": [
    "fun1(5,6,7)"
   ]
  },
  {
   "cell_type": "code",
   "execution_count": null,
   "id": "b825dbb7-6db8-4540-ab10-3bedd16642f0",
   "metadata": {},
   "outputs": [],
   "source": []
  }
 ],
 "metadata": {
  "kernelspec": {
   "display_name": "Python 3 (ipykernel)",
   "language": "python",
   "name": "python3"
  },
  "language_info": {
   "codemirror_mode": {
    "name": "ipython",
    "version": 3
   },
   "file_extension": ".py",
   "mimetype": "text/x-python",
   "name": "python",
   "nbconvert_exporter": "python",
   "pygments_lexer": "ipython3",
   "version": "3.9.12"
  }
 },
 "nbformat": 4,
 "nbformat_minor": 5
}
