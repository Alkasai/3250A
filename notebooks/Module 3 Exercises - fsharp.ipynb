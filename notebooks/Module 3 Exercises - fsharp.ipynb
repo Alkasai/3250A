{
 "cells": [
  {
   "cell_type": "markdown",
   "metadata": {},
   "source": [
    "## Practice Questions\n",
    "\n",
    "1. Create two list objects with the following elements in each: [2; 3; 7; 89; 9] [8; 9.8; 9; 8; 89]. Print each list withthe object name. For example: the output will look like this: 'List1: [2; 3; 7; 89; 9] LIst2: [8; 9.8; 9; 8; 89]'"
   ]
  },
  {
   "cell_type": "code",
   "execution_count": null,
   "metadata": {
    "dotnet_interactive": {
     "language": "fsharp"
    },
    "vscode": {
     "languageId": "dotnet-interactive.fsharp"
    }
   },
   "outputs": [],
   "source": [
    "let l1 = [2.; 3.; 7.; 89.; 9.]\n",
    "let l2 = [8.; 9.8; 9.; 8.; 89.]\n",
    "printfn $\"List1: {l1}\"\n",
    "printfn $\"List2: {l2}\""
   ]
  },
  {
   "cell_type": "markdown",
   "metadata": {},
   "source": [
    "2. Define a string object which states the following: 'Twinkle, twinkle, little star,How I wonder what you are! Up above the world so high, Like a diamond in the sky.'. Count the number of times the letters 'e', 'a' and 't' appear. Then, write a function to split the separate each word of the string. Hint: you can use the split() method."
   ]
  },
  {
   "cell_type": "code",
   "execution_count": null,
   "metadata": {
    "dotnet_interactive": {
     "language": "fsharp"
    },
    "vscode": {
     "languageId": "dotnet-interactive.fsharp"
    }
   },
   "outputs": [],
   "source": [
    "let printEAT (e, a, t) =\n",
    "    printfn $\"There are %i{e} e's\"\n",
    "    printfn $\"There are %i{a} a's\"\n",
    "    printfn $\"There are %i{t} t's\""
   ]
  },
  {
   "cell_type": "code",
   "execution_count": null,
   "metadata": {
    "dotnet_interactive": {
     "language": "fsharp"
    },
    "vscode": {
     "languageId": "dotnet-interactive.fsharp"
    }
   },
   "outputs": [],
   "source": [
    "let s =\n",
    "    \"Twinkle, twinkle, little star,How I wonder what you are! Up above the world so high, Like a diamond in the sky.\"\n",
    "\n",
    "let mutable e = 0\n",
    "let mutable a = 0\n",
    "let mutable t = 0\n",
    "for i in s.ToLowerInvariant() do\n",
    "    if i = 'e' then\n",
    "        e <- e + 1\n",
    "    elif i = 'a' then\n",
    "        a <- a + 1\n",
    "    elif i = 't' then\n",
    "        t <- t + 1\n",
    "\n",
    "printEAT (e, a, t)"
   ]
  },
  {
   "cell_type": "markdown",
   "metadata": {},
   "source": [
    "Alternative solution using `fold`"
   ]
  },
  {
   "cell_type": "code",
   "execution_count": null,
   "metadata": {
    "dotnet_interactive": {
     "language": "fsharp"
    },
    "vscode": {
     "languageId": "dotnet-interactive.fsharp"
    }
   },
   "outputs": [],
   "source": [
    "s.ToLowerInvariant()\n",
    "|> Seq.fold\n",
    "    (\n",
    "        fun (e,a,t) c ->\n",
    "            match c with\n",
    "            | 'e' -> e + 1, a, t\n",
    "            | 'a' -> e, a + 1, t\n",
    "            | 't' -> e, a, t + 1\n",
    "            | _ -> e, a, t\n",
    "    )\n",
    "    (0,0,0) // state\n",
    "|> printEAT // send all 3 results to print"
   ]
  },
  {
   "cell_type": "code",
   "execution_count": null,
   "metadata": {
    "dotnet_interactive": {
     "language": "fsharp"
    },
    "vscode": {
     "languageId": "dotnet-interactive.fsharp"
    }
   },
   "outputs": [],
   "source": [
    "let replace c (s: string) = s.Replace(c, \" \")\n",
    "let split (s: string) = s.Split(\" \")\n",
    "let cleanup = replace \",\" >> replace \"!\" >> replace \".\" >> split\n",
    "\n",
    "s\n",
    "|> cleanup\n",
    "|> Seq.filter (fun w -> w <> \"\")\n",
    "|> Seq.map (fun s -> s.ToLowerInvariant())\n",
    "|> Seq.distinct\n",
    "|> Seq.sort\n",
    "|> List.ofSeq"
   ]
  },
  {
   "cell_type": "markdown",
   "metadata": {},
   "source": [
    "3. Create a dictionary with the following keys and corresponding values related to cars and models: \n",
    "\n",
    "    * Keys: Toronto, Vancouver, Montreal, Winnipeg\n",
    "    * Values: Ontario, British Columbia, Quebec, Manitoba\n",
    "\n",
    "Write a function to add an entry to the dictionary: \"Saskatoon: Saskatchewan\"."
   ]
  },
  {
   "cell_type": "code",
   "execution_count": null,
   "metadata": {
    "dotnet_interactive": {
     "language": "fsharp"
    },
    "vscode": {
     "languageId": "dotnet-interactive.fsharp"
    }
   },
   "outputs": [],
   "source": [
    "let locations =\n",
    "    [\n",
    "        \"Toronto\", \"Ontario\"\n",
    "        \"Vancouver\", \"British Columbia\"\n",
    "        \"Montreal\", \"Quebec\"\n",
    "        \"Montreal\", \"Manitoba\"\n",
    "    ]\n",
    "    |> Map.ofList\n",
    "\n",
    "let updatedLocations = locations.Add(\"Saskatoon\", \"Saskatchewan\")\n",
    "updatedLocations"
   ]
  },
  {
   "cell_type": "code",
   "execution_count": null,
   "metadata": {
    "dotnet_interactive": {
     "language": "fsharp"
    },
    "vscode": {
     "languageId": "dotnet-interactive.fsharp"
    }
   },
   "outputs": [],
   "source": [
    "let has k (m:Map<'a,'b>) =\n",
    "    m.Keys\n",
    "    |> Seq.tryFind (fun key -> key = k)\n",
    "    |> function\n",
    "        | Some key -> true\n",
    "        | None -> false"
   ]
  },
  {
   "cell_type": "code",
   "execution_count": null,
   "metadata": {
    "dotnet_interactive": {
     "language": "fsharp"
    },
    "vscode": {
     "languageId": "dotnet-interactive.fsharp"
    }
   },
   "outputs": [],
   "source": [
    "updatedLocations |> has \"Alberta\""
   ]
  },
  {
   "cell_type": "code",
   "execution_count": null,
   "metadata": {
    "dotnet_interactive": {
     "language": "fsharp"
    },
    "vscode": {
     "languageId": "dotnet-interactive.fsharp"
    }
   },
   "outputs": [],
   "source": [
    "updatedLocations |> has \"Saskatoon\""
   ]
  },
  {
   "cell_type": "markdown",
   "metadata": {},
   "source": [
    "5. Define variables to represent the following rectangle coordinates: (2,3), (2,8), (4,3), (4,8). Then, write an if statement to check if the point (3,5) is inside the rectangle."
   ]
  },
  {
   "cell_type": "code",
   "execution_count": null,
   "metadata": {
    "dotnet_interactive": {
     "language": "fsharp"
    },
    "vscode": {
     "languageId": "dotnet-interactive.fsharp"
    }
   },
   "outputs": [],
   "source": [
    "type BottomLeft = int * int\n",
    "type TopLeft = int * int\n",
    "type BottomRight = int * int\n",
    "type TopRight = int * int\n",
    "\n",
    "let x1 = 2\n",
    "let y1 = 3\n",
    "let x2 = 4\n",
    "let y2 = 8\n",
    "let bottomLeft = BottomLeft (x1,y1)\n",
    "let topLeft = TopLeft (x1,y2)\n",
    "let bottomRight = BottomRight (x2,y1)\n",
    "let topRight = TopRight (x2,y2)"
   ]
  },
  {
   "cell_type": "code",
   "execution_count": null,
   "metadata": {
    "dotnet_interactive": {
     "language": "fsharp"
    },
    "vscode": {
     "languageId": "dotnet-interactive.fsharp"
    }
   },
   "outputs": [],
   "source": [
    "let inside ((x1,y1): BottomLeft) ((x2,y2): TopRight) p =\n",
    "    // above bottom left point, e.g. (2,3)\n",
    "    // and\n",
    "    // below top right point, e.g. (4,8)\n",
    "    p >= (x1,y1) && p <= (x2,y2)"
   ]
  },
  {
   "cell_type": "code",
   "execution_count": null,
   "metadata": {
    "dotnet_interactive": {
     "language": "fsharp"
    },
    "vscode": {
     "languageId": "dotnet-interactive.fsharp"
    }
   },
   "outputs": [],
   "source": [
    "(3, 5) |> inside bottomLeft topRight"
   ]
  },
  {
   "cell_type": "markdown",
   "metadata": {},
   "source": [
    "6. Write a function to compute the n-th element of the Fibonacci sequence recursively. If you need to familiarize yourself with the Fibonacci sequence, please refer to https://en.wikipedia.org/wiki/Fibonacci_number (Fibonacci number, n.d.). The function should take an integer number n as an argument and return n-th element of the Fibonacci sequence. The first two numbers in the sequence are 0 and 1, and each subsequent number is the sum of the previous two."
   ]
  },
  {
   "cell_type": "code",
   "execution_count": null,
   "metadata": {
    "dotnet_interactive": {
     "language": "fsharp"
    },
    "vscode": {
     "languageId": "dotnet-interactive.fsharp"
    }
   },
   "outputs": [],
   "source": [
    "let rec fib n =\n",
    "    if n <= 1 then\n",
    "        n\n",
    "    else\n",
    "        fib(n-2) + fib(n-1)"
   ]
  },
  {
   "cell_type": "code",
   "execution_count": null,
   "metadata": {
    "dotnet_interactive": {
     "language": "fsharp"
    },
    "vscode": {
     "languageId": "dotnet-interactive.fsharp"
    }
   },
   "outputs": [],
   "source": [
    "fib(0)"
   ]
  },
  {
   "cell_type": "code",
   "execution_count": null,
   "metadata": {
    "dotnet_interactive": {
     "language": "fsharp"
    },
    "vscode": {
     "languageId": "dotnet-interactive.fsharp"
    }
   },
   "outputs": [],
   "source": [
    "fib(1)"
   ]
  },
  {
   "cell_type": "code",
   "execution_count": null,
   "metadata": {
    "dotnet_interactive": {
     "language": "fsharp"
    },
    "vscode": {
     "languageId": "dotnet-interactive.fsharp"
    }
   },
   "outputs": [],
   "source": [
    "fib(2)"
   ]
  },
  {
   "cell_type": "code",
   "execution_count": null,
   "metadata": {
    "dotnet_interactive": {
     "language": "fsharp"
    },
    "vscode": {
     "languageId": "dotnet-interactive.fsharp"
    }
   },
   "outputs": [],
   "source": [
    "fib(3)"
   ]
  },
  {
   "cell_type": "code",
   "execution_count": null,
   "metadata": {
    "dotnet_interactive": {
     "language": "fsharp"
    },
    "vscode": {
     "languageId": "dotnet-interactive.fsharp"
    }
   },
   "outputs": [],
   "source": [
    "fib(4)"
   ]
  },
  {
   "cell_type": "code",
   "execution_count": null,
   "metadata": {
    "dotnet_interactive": {
     "language": "fsharp"
    },
    "vscode": {
     "languageId": "dotnet-interactive.fsharp"
    }
   },
   "outputs": [],
   "source": [
    "fib(8)"
   ]
  }
 ],
 "metadata": {
  "kernelspec": {
   "display_name": ".NET (C#)",
   "language": "C#",
   "name": ".net-csharp"
  },
  "language_info": {
   "file_extension": ".cs",
   "mimetype": "text/x-csharp",
   "name": "C#",
   "pygments_lexer": "csharp",
   "version": "8.0"
  }
 },
 "nbformat": 4,
 "nbformat_minor": 5
}
